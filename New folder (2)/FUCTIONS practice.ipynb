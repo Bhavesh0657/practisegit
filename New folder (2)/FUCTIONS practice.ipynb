{
 "cells": [
  {
   "cell_type": "code",
   "execution_count": 5,
   "id": "56d9ca31",
   "metadata": {},
   "outputs": [],
   "source": [
    "def lesser_of_two_evens(a,b):\n",
    "    \n",
    "    if a % 2 == 0 and b % 2 == 0:\n",
    "            if a < b:\n",
    "                result = a\n",
    "            else:\n",
    "                result = b\n",
    "                \n",
    "    else:\n",
    "        if a > b:\n",
    "            result = a\n",
    "        else: \n",
    "            result = b\n",
    "            \n",
    "    return result\n",
    "            \n",
    "    \n",
    "            "
   ]
  },
  {
   "cell_type": "code",
   "execution_count": 7,
   "id": "1f8bd68b",
   "metadata": {},
   "outputs": [
    {
     "data": {
      "text/plain": [
       "2"
      ]
     },
     "execution_count": 7,
     "metadata": {},
     "output_type": "execute_result"
    }
   ],
   "source": [
    "lesser_of_two_evens(2,8)"
   ]
  },
  {
   "cell_type": "code",
   "execution_count": 8,
   "id": "b49c2264",
   "metadata": {},
   "outputs": [
    {
     "data": {
      "text/plain": [
       "9"
      ]
     },
     "execution_count": 8,
     "metadata": {},
     "output_type": "execute_result"
    }
   ],
   "source": [
    "lesser_of_two_evens(5,9)"
   ]
  },
  {
   "cell_type": "code",
   "execution_count": 9,
   "id": "5d178cfd",
   "metadata": {},
   "outputs": [],
   "source": [
    "def check_lesser_of_two_evens(a,b):\n",
    "    \n",
    "    if a % 2 == 0 and b% 2 == 0:\n",
    "        \n",
    "        if a < b:\n",
    "            result = a\n",
    "        else: \n",
    "            result = b\n",
    "            \n",
    "    else:\n",
    "        if a > b:\n",
    "            result = a\n",
    "        else:\n",
    "            result = b\n",
    "            \n",
    "    return result"
   ]
  },
  {
   "cell_type": "code",
   "execution_count": 10,
   "id": "4ce3d937",
   "metadata": {},
   "outputs": [
    {
     "data": {
      "text/plain": [
       "42"
      ]
     },
     "execution_count": 10,
     "metadata": {},
     "output_type": "execute_result"
    }
   ],
   "source": [
    "check_lesser_of_two_evens(42,56)"
   ]
  },
  {
   "cell_type": "code",
   "execution_count": 11,
   "id": "d593e10b",
   "metadata": {},
   "outputs": [
    {
     "data": {
      "text/plain": [
       "111"
      ]
     },
     "execution_count": 11,
     "metadata": {},
     "output_type": "execute_result"
    }
   ],
   "source": [
    "check_lesser_of_two_evens(89,111)"
   ]
  },
  {
   "cell_type": "code",
   "execution_count": 15,
   "id": "39c146f6",
   "metadata": {},
   "outputs": [],
   "source": [
    "def check_lesser_of_two_evens(a,b):\n",
    "    if a % 2 == 0 and b % 2 == 0:\n",
    "        return min(a,b)\n",
    "        \n",
    "    else:\n",
    "        return max(a,b)\n",
    "        \n"
   ]
  },
  {
   "cell_type": "code",
   "execution_count": 16,
   "id": "ad3263ae",
   "metadata": {},
   "outputs": [
    {
     "data": {
      "text/plain": [
       "89"
      ]
     },
     "execution_count": 16,
     "metadata": {},
     "output_type": "execute_result"
    }
   ],
   "source": [
    "check_lesser_of_two_evens(45,89)"
   ]
  },
  {
   "cell_type": "code",
   "execution_count": 17,
   "id": "3cbac074",
   "metadata": {},
   "outputs": [
    {
     "data": {
      "text/plain": [
       "22"
      ]
     },
     "execution_count": 17,
     "metadata": {},
     "output_type": "execute_result"
    }
   ],
   "source": [
    "check_lesser_of_two_evens(22,66)"
   ]
  },
  {
   "cell_type": "code",
   "execution_count": 19,
   "id": "c1a18652",
   "metadata": {},
   "outputs": [],
   "source": [
    "def animal_cracker(text):\n",
    "    list = text.upper().split()\n",
    "    print(list)\n",
    "    \n",
    "    return list[0][0] == list[1][0]\n"
   ]
  },
  {
   "cell_type": "code",
   "execution_count": 20,
   "id": "fc78b873",
   "metadata": {},
   "outputs": [
    {
     "name": "stdout",
     "output_type": "stream",
     "text": [
      "['JAJKSJNK', 'CASJVAJNN']\n"
     ]
    },
    {
     "data": {
      "text/plain": [
       "False"
      ]
     },
     "execution_count": 20,
     "metadata": {},
     "output_type": "execute_result"
    }
   ],
   "source": [
    "animal_cracker('Jajksjnk  casjvajnn')"
   ]
  },
  {
   "cell_type": "code",
   "execution_count": 21,
   "id": "3b47309a",
   "metadata": {},
   "outputs": [
    {
     "name": "stdout",
     "output_type": "stream",
     "text": [
      "['DACJNZC', 'DSVNNSV']\n"
     ]
    },
    {
     "data": {
      "text/plain": [
       "True"
      ]
     },
     "execution_count": 21,
     "metadata": {},
     "output_type": "execute_result"
    }
   ],
   "source": [
    "animal_cracker('Dacjnzc dsvnnsv')"
   ]
  },
  {
   "cell_type": "code",
   "execution_count": 23,
   "id": "188b128f",
   "metadata": {},
   "outputs": [],
   "source": [
    "def make_twenty(n1,n2):\n",
    "    \n",
    "    if n1 + n2 == 20:\n",
    "        return True\n",
    "    elif n1 == 20:\n",
    "        return True\n",
    "    elif n2 == 20:\n",
    "        return True\n",
    "    else:\n",
    "        return False"
   ]
  },
  {
   "cell_type": "code",
   "execution_count": 24,
   "id": "e77a721c",
   "metadata": {},
   "outputs": [
    {
     "data": {
      "text/plain": [
       "True"
      ]
     },
     "execution_count": 24,
     "metadata": {},
     "output_type": "execute_result"
    }
   ],
   "source": [
    "make_twenty(12,8)"
   ]
  },
  {
   "cell_type": "code",
   "execution_count": 25,
   "id": "41fffa3b",
   "metadata": {},
   "outputs": [
    {
     "data": {
      "text/plain": [
       "True"
      ]
     },
     "execution_count": 25,
     "metadata": {},
     "output_type": "execute_result"
    }
   ],
   "source": [
    "make_twenty(20,1)"
   ]
  },
  {
   "cell_type": "code",
   "execution_count": 28,
   "id": "29ae1c1b",
   "metadata": {},
   "outputs": [],
   "source": [
    "def make_twenty(n1,n2):\n",
    "    \n",
    "    return (n1+n2) == 20 or n1 == 20 or n2== 20"
   ]
  },
  {
   "cell_type": "code",
   "execution_count": 29,
   "id": "f7e86b63",
   "metadata": {},
   "outputs": [
    {
     "data": {
      "text/plain": [
       "True"
      ]
     },
     "execution_count": 29,
     "metadata": {},
     "output_type": "execute_result"
    }
   ],
   "source": [
    "make_twenty(12,8)"
   ]
  },
  {
   "cell_type": "code",
   "execution_count": 30,
   "id": "cef59a38",
   "metadata": {},
   "outputs": [],
   "source": [
    "def old_macdonald(name):\n",
    "    \n",
    "    first_letter = name[0]\n",
    "    inbetween = name[1:3]\n",
    "    fourth_letter = name[3]\n",
    "    rest = name[4:]\n",
    "    \n",
    "    return first_letter.upper() + inbetween + fourth_letter.upper() + rest"
   ]
  },
  {
   "cell_type": "code",
   "execution_count": 31,
   "id": "5e556eca",
   "metadata": {},
   "outputs": [
    {
     "data": {
      "text/plain": [
       "'MacDonald'"
      ]
     },
     "execution_count": 31,
     "metadata": {},
     "output_type": "execute_result"
    }
   ],
   "source": [
    "old_macdonald('macdonald')"
   ]
  },
  {
   "cell_type": "code",
   "execution_count": 32,
   "id": "1b28b719",
   "metadata": {},
   "outputs": [],
   "source": [
    "def old_macdonald(name):\n",
    "    \n",
    "    first_half = name[:3]\n",
    "    second_half = name[3:]\n",
    "    \n",
    "    return first_half.capitalize() + second_half.capitalize()"
   ]
  },
  {
   "cell_type": "code",
   "execution_count": 33,
   "id": "50f04e71",
   "metadata": {},
   "outputs": [
    {
     "data": {
      "text/plain": [
       "'MacDonald'"
      ]
     },
     "execution_count": 33,
     "metadata": {},
     "output_type": "execute_result"
    }
   ],
   "source": [
    "old_macdonald('macdonald')"
   ]
  },
  {
   "cell_type": "code",
   "execution_count": 40,
   "id": "5bd1ffc0",
   "metadata": {},
   "outputs": [],
   "source": [
    "def master_yoda(text):\n",
    "    wordlist = text.split()\n",
    "    reverse_wordlist = wordlist[::-1]\n",
    "    return reverse_wordlist"
   ]
  },
  {
   "cell_type": "code",
   "execution_count": 41,
   "id": "ee67f4bc",
   "metadata": {},
   "outputs": [
    {
     "data": {
      "text/plain": [
       "['home', 'am', 'i']"
      ]
     },
     "execution_count": 41,
     "metadata": {},
     "output_type": "execute_result"
    }
   ],
   "source": [
    "master_yoda('i am home')"
   ]
  },
  {
   "cell_type": "code",
   "execution_count": 38,
   "id": "832dc954",
   "metadata": {},
   "outputs": [
    {
     "data": {
      "text/plain": [
       "<function __main__.master_yoda(text)>"
      ]
     },
     "execution_count": 38,
     "metadata": {},
     "output_type": "execute_result"
    }
   ],
   "source": [
    "master_yoda"
   ]
  },
  {
   "cell_type": "code",
   "execution_count": 42,
   "id": "254596b9",
   "metadata": {},
   "outputs": [
    {
     "data": {
      "text/plain": [
       "['ready', 'am', 'i']"
      ]
     },
     "execution_count": 42,
     "metadata": {},
     "output_type": "execute_result"
    }
   ],
   "source": [
    "master_yoda('i am ready')"
   ]
  },
  {
   "cell_type": "code",
   "execution_count": 46,
   "id": "4970918a",
   "metadata": {},
   "outputs": [],
   "source": [
    "def yoga(text):\n",
    "    wordlist = text.split()\n",
    "    reverse_wordlist = wordlist[::-1]\n",
    "    return ' '.join (reverse_wordlist)"
   ]
  },
  {
   "cell_type": "code",
   "execution_count": 47,
   "id": "c90332ea",
   "metadata": {},
   "outputs": [
    {
     "data": {
      "text/plain": [
       "'you are how hello'"
      ]
     },
     "execution_count": 47,
     "metadata": {},
     "output_type": "execute_result"
    }
   ],
   "source": [
    "yoga('hello how are you')\n"
   ]
  },
  {
   "cell_type": "code",
   "execution_count": 9,
   "id": "78a3b5bf",
   "metadata": {},
   "outputs": [],
   "source": [
    "def master_class(text):\n",
    "    \n",
    "    wordlist = text.split()\n",
    "    reverse_wordlist = wordlist[::-1]\n",
    "    return ' '.join(reverse_wordlist)"
   ]
  },
  {
   "cell_type": "code",
   "execution_count": 10,
   "id": "ff62ca89",
   "metadata": {},
   "outputs": [
    {
     "data": {
      "text/plain": [
       "'well feeling not am i'"
      ]
     },
     "execution_count": 10,
     "metadata": {},
     "output_type": "execute_result"
    }
   ],
   "source": [
    "master_class('i am not feeling well')"
   ]
  },
  {
   "cell_type": "code",
   "execution_count": 11,
   "id": "c57a8a75",
   "metadata": {},
   "outputs": [],
   "source": [
    "#macdonald\n"
   ]
  },
  {
   "cell_type": "code",
   "execution_count": 33,
   "id": "0ecede13",
   "metadata": {},
   "outputs": [],
   "source": [
    "def qwerty(name):\n",
    "    \n",
    "    first_letter = name[0]\n",
    "    middle_letter = name[1:3]\n",
    "    fourth_letter = name[3]\n",
    "    rest = name[4:]\n",
    "    \n",
    "    return first_letter.upper() + middle_letter + fourth_letter.upper() + rest"
   ]
  },
  {
   "cell_type": "code",
   "execution_count": 34,
   "id": "fda96ff5",
   "metadata": {},
   "outputs": [
    {
     "data": {
      "text/plain": [
       "'MacDonald'"
      ]
     },
     "execution_count": 34,
     "metadata": {},
     "output_type": "execute_result"
    }
   ],
   "source": [
    "qwerty('macdonald')"
   ]
  },
  {
   "cell_type": "code",
   "execution_count": 35,
   "id": "2c55a2ff",
   "metadata": {},
   "outputs": [],
   "source": [
    "def qwerty(name):\n",
    "    \n",
    "    first_part = name[:3]\n",
    "    second_part = name[3:]\n",
    "    \n",
    "    return first_part.capitalize() + second_part.capitalize()"
   ]
  },
  {
   "cell_type": "code",
   "execution_count": 36,
   "id": "40b4244f",
   "metadata": {},
   "outputs": [
    {
     "data": {
      "text/plain": [
       "'MacDonald'"
      ]
     },
     "execution_count": 36,
     "metadata": {},
     "output_type": "execute_result"
    }
   ],
   "source": [
    "qwerty('macdonald')"
   ]
  },
  {
   "cell_type": "code",
   "execution_count": 42,
   "id": "8ed3d417",
   "metadata": {},
   "outputs": [],
   "source": [
    "def almost_there(n):\n",
    "    \n",
    "    if abs(100-n) <= 10 or abs(200-n) <= 10:\n",
    "        return True\n",
    "    else:\n",
    "        return False"
   ]
  },
  {
   "cell_type": "code",
   "execution_count": 43,
   "id": "94a75ce3",
   "metadata": {},
   "outputs": [
    {
     "data": {
      "text/plain": [
       "True"
      ]
     },
     "execution_count": 43,
     "metadata": {},
     "output_type": "execute_result"
    }
   ],
   "source": [
    "almost_there(110)"
   ]
  },
  {
   "cell_type": "code",
   "execution_count": 44,
   "id": "c21e9a6e",
   "metadata": {},
   "outputs": [
    {
     "data": {
      "text/plain": [
       "False"
      ]
     },
     "execution_count": 44,
     "metadata": {},
     "output_type": "execute_result"
    }
   ],
   "source": [
    "almost_there(141)"
   ]
  },
  {
   "cell_type": "code",
   "execution_count": 45,
   "id": "2515a8d5",
   "metadata": {},
   "outputs": [
    {
     "data": {
      "text/plain": [
       "False"
      ]
     },
     "execution_count": 45,
     "metadata": {},
     "output_type": "execute_result"
    }
   ],
   "source": [
    "almost_there(222)"
   ]
  },
  {
   "cell_type": "code",
   "execution_count": 48,
   "id": "6a8737ba",
   "metadata": {},
   "outputs": [],
   "source": []
  },
  {
   "cell_type": "code",
   "execution_count": 54,
   "id": "97eb53b7",
   "metadata": {},
   "outputs": [],
   "source": [
    "def has_33(nums):\n",
    "    \n",
    "    for i in range(0,len(nums)-1):\n",
    "        if nums[i] == 3 and nums[i+1] == 3:\n",
    "            return True\n",
    "    \n",
    "    return False"
   ]
  },
  {
   "cell_type": "code",
   "execution_count": 55,
   "id": "db3194d3",
   "metadata": {},
   "outputs": [
    {
     "data": {
      "text/plain": [
       "True"
      ]
     },
     "execution_count": 55,
     "metadata": {},
     "output_type": "execute_result"
    }
   ],
   "source": [
    "has_33([1,3,3])  "
   ]
  },
  {
   "cell_type": "code",
   "execution_count": 56,
   "id": "8379b647",
   "metadata": {},
   "outputs": [
    {
     "data": {
      "text/plain": [
       "False"
      ]
     },
     "execution_count": 56,
     "metadata": {},
     "output_type": "execute_result"
    }
   ],
   "source": [
    "has_33([1,3,1,3])"
   ]
  },
  {
   "cell_type": "code",
   "execution_count": 57,
   "id": "e3952a13",
   "metadata": {},
   "outputs": [],
   "source": [
    "def has_33(nums):\n",
    "    \n",
    "    for i in range(0,len(nums)-1):\n",
    "        if nums[i]== 3 and nums[i+1] == 3:\n",
    "            return True\n",
    "        \n",
    "    return False"
   ]
  },
  {
   "cell_type": "code",
   "execution_count": 58,
   "id": "88ba6dfc",
   "metadata": {},
   "outputs": [
    {
     "data": {
      "text/plain": [
       "True"
      ]
     },
     "execution_count": 58,
     "metadata": {},
     "output_type": "execute_result"
    }
   ],
   "source": [
    "has_33([1,3,3,1])"
   ]
  },
  {
   "cell_type": "code",
   "execution_count": 59,
   "id": "760cec7d",
   "metadata": {},
   "outputs": [],
   "source": [
    "def paper_doll(text):\n",
    "    \n",
    "    result = ''\n",
    "    \n",
    "    for char in text:\n",
    "        result = result + char*3\n",
    "    return result"
   ]
  },
  {
   "cell_type": "code",
   "execution_count": 60,
   "id": "aea85555",
   "metadata": {},
   "outputs": [
    {
     "data": {
      "text/plain": [
       "'hhheeellllllooo'"
      ]
     },
     "execution_count": 60,
     "metadata": {},
     "output_type": "execute_result"
    }
   ],
   "source": [
    "paper_doll('hello')"
   ]
  },
  {
   "cell_type": "code",
   "execution_count": 61,
   "id": "5d7cd51a",
   "metadata": {},
   "outputs": [
    {
     "data": {
      "text/plain": [
       "'mmmiiissssssiiippppppsssiiiiii'"
      ]
     },
     "execution_count": 61,
     "metadata": {},
     "output_type": "execute_result"
    }
   ],
   "source": [
    "paper_doll('missippsii')"
   ]
  },
  {
   "cell_type": "code",
   "execution_count": 72,
   "id": "6f99290b",
   "metadata": {},
   "outputs": [],
   "source": [
    "def blackjack(a,b,c):\n",
    "    \n",
    "    \n",
    "    if sum([a,b,c]) <= 21:\n",
    "        return sum([a,b,c])\n",
    "    elif 11 in [a,b,c] and sum([a,b,c]) <= 31:\n",
    "        return sum([a,b,c])-10\n",
    "    else:\n",
    "        return \"Blast\""
   ]
  },
  {
   "cell_type": "code",
   "execution_count": 73,
   "id": "9db907e7",
   "metadata": {},
   "outputs": [
    {
     "data": {
      "text/plain": [
       "18"
      ]
     },
     "execution_count": 73,
     "metadata": {},
     "output_type": "execute_result"
    }
   ],
   "source": [
    "blackjack(5,6,7)"
   ]
  },
  {
   "cell_type": "code",
   "execution_count": 74,
   "id": "2d9afef5",
   "metadata": {},
   "outputs": [
    {
     "data": {
      "text/plain": [
       "17"
      ]
     },
     "execution_count": 74,
     "metadata": {},
     "output_type": "execute_result"
    }
   ],
   "source": [
    "blackjack(11,11,5)"
   ]
  },
  {
   "cell_type": "code",
   "execution_count": 78,
   "id": "903f1687",
   "metadata": {},
   "outputs": [],
   "source": [
    "def summer_69(arr):\n",
    "    \n",
    "    total = 0\n",
    "    add = True\n",
    "    \n",
    "    for num in arr:\n",
    "        while add:\n",
    "            if num != 6:\n",
    "                total += num\n",
    "                break\n",
    "            else:\n",
    "                add = False\n",
    "        while not add:\n",
    "            if num != 9:\n",
    "                break\n",
    "            else:\n",
    "                add = True\n",
    "                break\n",
    "                \n",
    "    return total\n",
    "                "
   ]
  },
  {
   "cell_type": "code",
   "execution_count": 79,
   "id": "37aa080e",
   "metadata": {},
   "outputs": [
    {
     "data": {
      "text/plain": [
       "6"
      ]
     },
     "execution_count": 79,
     "metadata": {},
     "output_type": "execute_result"
    }
   ],
   "source": [
    "summer_69([1,2,3,6,9])"
   ]
  },
  {
   "cell_type": "code",
   "execution_count": 80,
   "id": "d757f078",
   "metadata": {},
   "outputs": [
    {
     "data": {
      "text/plain": [
       "14"
      ]
     },
     "execution_count": 80,
     "metadata": {},
     "output_type": "execute_result"
    }
   ],
   "source": [
    "summer_69([1,5,8,6,9])"
   ]
  },
  {
   "cell_type": "code",
   "execution_count": 81,
   "id": "fd8d61e4",
   "metadata": {},
   "outputs": [
    {
     "data": {
      "text/plain": [
       "88"
      ]
     },
     "execution_count": 81,
     "metadata": {},
     "output_type": "execute_result"
    }
   ],
   "source": [
    "summer_69([5,6,9,8,75])"
   ]
  },
  {
   "cell_type": "code",
   "execution_count": 82,
   "id": "1b540934",
   "metadata": {},
   "outputs": [],
   "source": [
    "def summer_59(arr):\n",
    "    \n",
    "    total = 0\n",
    "    add = True\n",
    "    \n",
    "    for num in arr:\n",
    "        while add:\n",
    "            if num != 5:\n",
    "                total += num\n",
    "                break\n",
    "            else:\n",
    "                add = False\n",
    "        while not add:\n",
    "            if num != 8:\n",
    "                break\n",
    "            else:\n",
    "                add = True\n",
    "    return total"
   ]
  },
  {
   "cell_type": "code",
   "execution_count": 83,
   "id": "6724bf71",
   "metadata": {},
   "outputs": [
    {
     "data": {
      "text/plain": [
       "20"
      ]
     },
     "execution_count": 83,
     "metadata": {},
     "output_type": "execute_result"
    }
   ],
   "source": [
    "summer_59([4,7,5,8,9])"
   ]
  },
  {
   "cell_type": "code",
   "execution_count": 85,
   "id": "2ff10fa9",
   "metadata": {},
   "outputs": [],
   "source": [
    "def qwerty_47(arr):\n",
    "    \n",
    "    total = 0\n",
    "    add = True\n",
    "    \n",
    "    for num in arr:\n",
    "        while add:\n",
    "            if num != 4:\n",
    "                total += num\n",
    "                break\n",
    "            else:\n",
    "                add = False\n",
    "        while not add:\n",
    "            if num != 7:\n",
    "                 break\n",
    "            else:\n",
    "                add = True\n",
    "                \n",
    "    return total\n",
    "            "
   ]
  },
  {
   "cell_type": "code",
   "execution_count": 97,
   "id": "dafc921e",
   "metadata": {},
   "outputs": [],
   "source": [
    "cod = [0,4,5,9,7]"
   ]
  },
  {
   "cell_type": "code",
   "execution_count": 98,
   "id": "2392043c",
   "metadata": {},
   "outputs": [
    {
     "data": {
      "text/plain": [
       "5"
      ]
     },
     "execution_count": 98,
     "metadata": {},
     "output_type": "execute_result"
    }
   ],
   "source": [
    "cod.pop(2)"
   ]
  },
  {
   "cell_type": "code",
   "execution_count": 99,
   "id": "b031b925",
   "metadata": {},
   "outputs": [],
   "source": [
    " def spy_game(nums):\n",
    "        \n",
    "        code = [0,0,7,'x']\n",
    "        \n",
    "        for num in nums:\n",
    "            if num == code[0]:\n",
    "                code.pop(0)\n",
    "                \n",
    "        return len(code) == 1"
   ]
  },
  {
   "cell_type": "code",
   "execution_count": 101,
   "id": "fb83e574",
   "metadata": {},
   "outputs": [
    {
     "data": {
      "text/plain": [
       "True"
      ]
     },
     "execution_count": 101,
     "metadata": {},
     "output_type": "execute_result"
    }
   ],
   "source": [
    "spy_game([1,2,3,0,0,7])"
   ]
  },
  {
   "cell_type": "code",
   "execution_count": 102,
   "id": "ae806c2c",
   "metadata": {},
   "outputs": [
    {
     "data": {
      "text/plain": [
       "False"
      ]
     },
     "execution_count": 102,
     "metadata": {},
     "output_type": "execute_result"
    }
   ],
   "source": [
    "spy_game([0,7,0,81,3])"
   ]
  },
  {
   "cell_type": "code",
   "execution_count": null,
   "id": "589e5a74",
   "metadata": {},
   "outputs": [],
   "source": []
  }
 ],
 "metadata": {
  "kernelspec": {
   "display_name": "Python 3 (ipykernel)",
   "language": "python",
   "name": "python3"
  },
  "language_info": {
   "codemirror_mode": {
    "name": "ipython",
    "version": 3
   },
   "file_extension": ".py",
   "mimetype": "text/x-python",
   "name": "python",
   "nbconvert_exporter": "python",
   "pygments_lexer": "ipython3",
   "version": "3.10.9"
  }
 },
 "nbformat": 4,
 "nbformat_minor": 5
}
