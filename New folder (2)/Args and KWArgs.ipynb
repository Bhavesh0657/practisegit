{
 "cells": [
  {
   "cell_type": "code",
   "execution_count": 1,
   "id": "9f7f5d8c",
   "metadata": {},
   "outputs": [],
   "source": [
    "def myfunc (a,b):\n",
    "    return sum((a,b)) * 0.05"
   ]
  },
  {
   "cell_type": "code",
   "execution_count": 2,
   "id": "9199480e",
   "metadata": {},
   "outputs": [
    {
     "data": {
      "text/plain": [
       "5.0"
      ]
     },
     "execution_count": 2,
     "metadata": {},
     "output_type": "execute_result"
    }
   ],
   "source": [
    "myfunc(40,60)"
   ]
  },
  {
   "cell_type": "code",
   "execution_count": 5,
   "id": "54d14429",
   "metadata": {},
   "outputs": [],
   "source": [
    "def myfunc (c,d):\n",
    "    return sum((c,d)) * 0.10"
   ]
  },
  {
   "cell_type": "code",
   "execution_count": 6,
   "id": "fb6041d9",
   "metadata": {},
   "outputs": [
    {
     "data": {
      "text/plain": [
       "11.0"
      ]
     },
     "execution_count": 6,
     "metadata": {},
     "output_type": "execute_result"
    }
   ],
   "source": [
    "myfunc(50,60)"
   ]
  },
  {
   "cell_type": "code",
   "execution_count": 7,
   "id": "446eeb35",
   "metadata": {},
   "outputs": [],
   "source": [
    "def myfunc (*args):\n",
    "    return sum(args) * 0.5"
   ]
  },
  {
   "cell_type": "code",
   "execution_count": 8,
   "id": "162158a6",
   "metadata": {},
   "outputs": [
    {
     "data": {
      "text/plain": [
       "90.0"
      ]
     },
     "execution_count": 8,
     "metadata": {},
     "output_type": "execute_result"
    }
   ],
   "source": [
    "myfunc(12,23,56,89)"
   ]
  },
  {
   "cell_type": "code",
   "execution_count": 9,
   "id": "e83e6c1c",
   "metadata": {},
   "outputs": [],
   "source": [
    "def myfunc(*args):\n",
    "    return sum(args) * 0.10"
   ]
  },
  {
   "cell_type": "code",
   "execution_count": 10,
   "id": "97d933bc",
   "metadata": {},
   "outputs": [
    {
     "data": {
      "text/plain": [
       "10.0"
      ]
     },
     "execution_count": 10,
     "metadata": {},
     "output_type": "execute_result"
    }
   ],
   "source": [
    "myfunc(40,60)"
   ]
  },
  {
   "cell_type": "code",
   "execution_count": 11,
   "id": "dd34a328",
   "metadata": {},
   "outputs": [],
   "source": [
    "def myfunc(*args):\n",
    "    for item in args:\n",
    "        print(item)"
   ]
  },
  {
   "cell_type": "code",
   "execution_count": 12,
   "id": "b5ed4575",
   "metadata": {},
   "outputs": [
    {
     "name": "stdout",
     "output_type": "stream",
     "text": [
      "40\n",
      "50\n",
      "60\n",
      "70\n",
      "80\n",
      "90\n",
      "100\n"
     ]
    }
   ],
   "source": [
    "myfunc(40,50,60,70,80,90,100)"
   ]
  },
  {
   "cell_type": "code",
   "execution_count": 13,
   "id": "40a29db5",
   "metadata": {},
   "outputs": [],
   "source": [
    "def myfunc(**kwargs):\n",
    "    print(kwargs)"
   ]
  },
  {
   "cell_type": "code",
   "execution_count": 14,
   "id": "3bbbacdf",
   "metadata": {},
   "outputs": [
    {
     "name": "stdout",
     "output_type": "stream",
     "text": [
      "{'fruits': 'apple', 'animal': 'rabbit', 'bike': 'ninja'}\n"
     ]
    }
   ],
   "source": [
    "myfunc(fruits = 'apple', animal = 'rabbit', bike = 'ninja')"
   ]
  },
  {
   "cell_type": "code",
   "execution_count": 17,
   "id": "62c0b811",
   "metadata": {},
   "outputs": [],
   "source": [
    "def myfun(*args, **kwargs):\n",
    "    print(args)\n",
    "    print(kwargs)\n",
    "    print('i would like {} {}'.format(args[0],kwargs['food']))"
   ]
  },
  {
   "cell_type": "code",
   "execution_count": 18,
   "id": "629d4759",
   "metadata": {},
   "outputs": [
    {
     "name": "stdout",
     "output_type": "stream",
     "text": [
      "(10, 20, 30)\n",
      "{'fruit': 'orange', 'food': 'egg', 'animal': 'dog'}\n",
      "i would like 10 egg\n"
     ]
    }
   ],
   "source": [
    "myfun(10,20,30,fruit = 'orange', food = 'egg', animal = 'dog')"
   ]
  },
  {
   "cell_type": "code",
   "execution_count": 22,
   "id": "931af3a5",
   "metadata": {},
   "outputs": [],
   "source": [
    "def myfunc(*args, **kwargs):\n",
    "    print(args)\n",
    "    print(kwargs)\n",
    "    print('i would like {} {}'.format(args[1],kwargs['fruit']))"
   ]
  },
  {
   "cell_type": "code",
   "execution_count": 24,
   "id": "8e94d374",
   "metadata": {},
   "outputs": [
    {
     "name": "stdout",
     "output_type": "stream",
     "text": [
      "(10, 20, 30)\n",
      "{'fruit': 'apple', 'bike': 'ninja', 'animal': 'rabbit'}\n",
      "i would like 20 apple\n"
     ]
    }
   ],
   "source": [
    "myfunc(10,20,30,fruit = 'apple', bike = 'ninja', animal = 'rabbit')"
   ]
  },
  {
   "cell_type": "code",
   "execution_count": 25,
   "id": "4ebed365",
   "metadata": {},
   "outputs": [],
   "source": [
    "def myfunc(**kwargs):\n",
    "    print(kwargs)"
   ]
  },
  {
   "cell_type": "code",
   "execution_count": 34,
   "id": "e11e7e37",
   "metadata": {},
   "outputs": [
    {
     "name": "stdout",
     "output_type": "stream",
     "text": [
      "{'fruit': 'apples', 'animal': 'dog', 'bike': 'bmw'}\n",
      "my fruit of choice is apples\n"
     ]
    }
   ],
   "source": [
    "myfunc(fruit = 'apples', animal = 'dog', bike = 'bmw')"
   ]
  },
  {
   "cell_type": "code",
   "execution_count": 30,
   "id": "b8f1dde0",
   "metadata": {},
   "outputs": [],
   "source": [
    "def myfunc(*args):\n",
    "    return sum(args) * 0.10"
   ]
  },
  {
   "cell_type": "code",
   "execution_count": 31,
   "id": "6be1ee49",
   "metadata": {},
   "outputs": [
    {
     "data": {
      "text/plain": [
       "6.0"
      ]
     },
     "execution_count": 31,
     "metadata": {},
     "output_type": "execute_result"
    }
   ],
   "source": [
    "myfunc(10,50)"
   ]
  },
  {
   "cell_type": "code",
   "execution_count": 36,
   "id": "a65e0a8c",
   "metadata": {},
   "outputs": [],
   "source": [
    "def myfunc(**kwargs):\n",
    "    print(kwargs)\n",
    "    if 'fruit' in kwargs:\n",
    "        print('my fruit of choice is {}'.format(kwargs['fruit']))\n",
    "    else:\n",
    "        print('i did not find any fruit')"
   ]
  },
  {
   "cell_type": "code",
   "execution_count": 38,
   "id": "dadb2466",
   "metadata": {},
   "outputs": [
    {
     "name": "stdout",
     "output_type": "stream",
     "text": [
      "{'animal': 'dog', 'bike': 'bmw'}\n",
      "i did not find any fruit\n"
     ]
    }
   ],
   "source": [
    "myfunc(animal = 'dog', bike = 'bmw')"
   ]
  },
  {
   "cell_type": "code",
   "execution_count": 39,
   "id": "a0e9b6f0",
   "metadata": {},
   "outputs": [],
   "source": [
    "def myfunc(x):\n",
    "    \n",
    "    out = []\n",
    "    \n",
    "    for i in range(len(x)):\n",
    "        if i % 2 == 0:\n",
    "            out.append(x[i].upper())\n",
    "\n",
    "        else:\n",
    "            out.append(x[i].lower())\n",
    "    return ''.join(out)"
   ]
  },
  {
   "cell_type": "code",
   "execution_count": 42,
   "id": "b769faf0",
   "metadata": {},
   "outputs": [
    {
     "data": {
      "text/plain": [
       "'AcKlNlVsJkDnKdV'"
      ]
     },
     "execution_count": 42,
     "metadata": {},
     "output_type": "execute_result"
    }
   ],
   "source": [
    "myfunc('acklnlvsjkdnkdv')"
   ]
  },
  {
   "cell_type": "code",
   "execution_count": null,
   "id": "e35ae71d",
   "metadata": {},
   "outputs": [],
   "source": []
  }
 ],
 "metadata": {
  "kernelspec": {
   "display_name": "Python 3 (ipykernel)",
   "language": "python",
   "name": "python3"
  },
  "language_info": {
   "codemirror_mode": {
    "name": "ipython",
    "version": 3
   },
   "file_extension": ".py",
   "mimetype": "text/x-python",
   "name": "python",
   "nbconvert_exporter": "python",
   "pygments_lexer": "ipython3",
   "version": "3.10.9"
  }
 },
 "nbformat": 4,
 "nbformat_minor": 5
}
