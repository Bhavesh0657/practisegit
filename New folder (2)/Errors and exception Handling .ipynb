{
 "cells": [
  {
   "cell_type": "code",
   "execution_count": 1,
   "id": "150c2cfd",
   "metadata": {},
   "outputs": [],
   "source": [
    "# try # ecxept # finally"
   ]
  },
  {
   "cell_type": "code",
   "execution_count": 2,
   "id": "be9a1e86",
   "metadata": {},
   "outputs": [],
   "source": [
    "def add(n1,n2):\n",
    "    print(n1+n2)"
   ]
  },
  {
   "cell_type": "code",
   "execution_count": 4,
   "id": "bb31b9c5",
   "metadata": {},
   "outputs": [
    {
     "name": "stdout",
     "output_type": "stream",
     "text": [
      "101\n"
     ]
    }
   ],
   "source": [
    "add(45,56)"
   ]
  },
  {
   "cell_type": "code",
   "execution_count": 5,
   "id": "c05eb2bd",
   "metadata": {},
   "outputs": [],
   "source": [
    "number1 = 10\n"
   ]
  },
  {
   "cell_type": "code",
   "execution_count": 7,
   "id": "00011b13",
   "metadata": {},
   "outputs": [
    {
     "name": "stdout",
     "output_type": "stream",
     "text": [
      "please provide a number: 56\n"
     ]
    }
   ],
   "source": [
    "number2 =input(\"please provide a number: \")"
   ]
  },
  {
   "cell_type": "code",
   "execution_count": 9,
   "id": "60d1bf3a",
   "metadata": {},
   "outputs": [
    {
     "ename": "TypeError",
     "evalue": "unsupported operand type(s) for +: 'int' and 'str'",
     "output_type": "error",
     "traceback": [
      "\u001b[1;31m---------------------------------------------------------------------------\u001b[0m",
      "\u001b[1;31mTypeError\u001b[0m                                 Traceback (most recent call last)",
      "Cell \u001b[1;32mIn[9], line 1\u001b[0m\n\u001b[1;32m----> 1\u001b[0m \u001b[43madd\u001b[49m\u001b[43m(\u001b[49m\u001b[43mnumber1\u001b[49m\u001b[43m,\u001b[49m\u001b[43m \u001b[49m\u001b[43mnumber2\u001b[49m\u001b[43m)\u001b[49m\n\u001b[0;32m      2\u001b[0m \u001b[38;5;28mprint\u001b[39m(\u001b[38;5;124m\"\u001b[39m\u001b[38;5;124msomething happend\u001b[39m\u001b[38;5;124m\"\u001b[39m)\n",
      "Cell \u001b[1;32mIn[2], line 2\u001b[0m, in \u001b[0;36madd\u001b[1;34m(n1, n2)\u001b[0m\n\u001b[0;32m      1\u001b[0m \u001b[38;5;28;01mdef\u001b[39;00m \u001b[38;5;21madd\u001b[39m(n1,n2):\n\u001b[1;32m----> 2\u001b[0m     \u001b[38;5;28mprint\u001b[39m(\u001b[43mn1\u001b[49m\u001b[38;5;241;43m+\u001b[39;49m\u001b[43mn2\u001b[49m)\n",
      "\u001b[1;31mTypeError\u001b[0m: unsupported operand type(s) for +: 'int' and 'str'"
     ]
    }
   ],
   "source": [
    "add(number1, number2)\n",
    "print(\"something happend\")"
   ]
  },
  {
   "cell_type": "code",
   "execution_count": 17,
   "id": "97dc900e",
   "metadata": {},
   "outputs": [
    {
     "name": "stdout",
     "output_type": "stream",
     "text": [
      "add went well\n",
      "20\n"
     ]
    }
   ],
   "source": [
    "try:\n",
    "    # want to attempt this code\n",
    "    result = 10 + 10\n",
    "except:\n",
    "    print(\"hey it looks you are'nt adding correctly\")\n",
    "else:\n",
    "    print(\"add went well\")\n",
    "    print(result)"
   ]
  },
  {
   "cell_type": "code",
   "execution_count": 16,
   "id": "264aae7d",
   "metadata": {},
   "outputs": [
    {
     "data": {
      "text/plain": [
       "20"
      ]
     },
     "execution_count": 16,
     "metadata": {},
     "output_type": "execute_result"
    }
   ],
   "source": [
    "result"
   ]
  },
  {
   "cell_type": "code",
   "execution_count": 22,
   "id": "4d0db9ce",
   "metadata": {},
   "outputs": [
    {
     "name": "stdout",
     "output_type": "stream",
     "text": [
      "hey its looks you are't adding correctly\n"
     ]
    }
   ],
   "source": [
    "try:\n",
    "    result = 45 + 'qw'\n",
    "except:\n",
    "    print(\"hey its looks you are't adding correctly\")\n",
    "else:\n",
    "    print(\"you are adding correctly\")\n",
    "    print(result)"
   ]
  },
  {
   "cell_type": "code",
   "execution_count": 23,
   "id": "b4bf47b4",
   "metadata": {},
   "outputs": [
    {
     "data": {
      "text/plain": [
       "123"
      ]
     },
     "execution_count": 23,
     "metadata": {},
     "output_type": "execute_result"
    }
   ],
   "source": [
    "result"
   ]
  },
  {
   "cell_type": "code",
   "execution_count": null,
   "id": "647627b2",
   "metadata": {},
   "outputs": [],
   "source": []
  },
  {
   "cell_type": "code",
   "execution_count": 28,
   "id": "4226e187",
   "metadata": {},
   "outputs": [
    {
     "name": "stdout",
     "output_type": "stream",
     "text": [
      "hey you have an OS Error\n",
      "i am run\n"
     ]
    }
   ],
   "source": [
    "try:\n",
    "    f = open('testfile','r')\n",
    "    f.write(\"write a test line\")\n",
    "except TypeError:\n",
    "    print(\"there was a type error\")\n",
    "except OSError:\n",
    "    print(\"hey you have an OS Error\")\n",
    "finally:\n",
    "    print(\"i am run\")"
   ]
  },
  {
   "cell_type": "code",
   "execution_count": 32,
   "id": "ebdce1cb",
   "metadata": {},
   "outputs": [],
   "source": [
    "def ask_for_int():\n",
    "    try:\n",
    "        result = int(input(\"please provide number:  \"))\n",
    "    except:\n",
    "        print(\"Whoops! that is not a number\")\n",
    "    finally:\n",
    "        print(\"end of try/except/finally\")"
   ]
  },
  {
   "cell_type": "code",
   "execution_count": 35,
   "id": "b8164ba7",
   "metadata": {},
   "outputs": [
    {
     "name": "stdout",
     "output_type": "stream",
     "text": [
      "please provide number:  dx\n",
      "Whoops! that is not a number\n",
      "end of try/except/finally\n"
     ]
    }
   ],
   "source": [
    "ask_for_int()"
   ]
  },
  {
   "cell_type": "code",
   "execution_count": null,
   "id": "0f801dfd",
   "metadata": {},
   "outputs": [],
   "source": [
    "def use_int():\n",
    "    while True:\n",
    "        try:\n",
    "            result = int(input(\"please provide number: \"))\n",
    "        except:\n",
    "            print(\"whoops! that is not a number\")\n",
    "            continue\n",
    "        else:\n",
    "            print(\"yes thank you\")\n",
    "            break\n",
    "        finally:\n",
    "            print(\"end of try/except/finally\")\n",
    "            print(\" i will always run at the end!\")"
   ]
  },
  {
   "cell_type": "code",
   "execution_count": 2,
   "id": "6d17fa37",
   "metadata": {},
   "outputs": [
    {
     "name": "stdout",
     "output_type": "stream",
     "text": [
      "please provide number: 56\n",
      "yes thank you\n",
      "end of try/except/finally\n",
      " i will always run at the end!\n"
     ]
    }
   ],
   "source": [
    "use_int()"
   ]
  },
  {
   "cell_type": "code",
   "execution_count": 3,
   "id": "430e6373",
   "metadata": {},
   "outputs": [
    {
     "name": "stdout",
     "output_type": "stream",
     "text": [
      "please provide number: czc\n",
      "whoops! that is not a number\n",
      "end of try/except/finally\n",
      " i will always run at the end!\n",
      "please provide number: 5\n",
      "yes thank you\n",
      "end of try/except/finally\n",
      " i will always run at the end!\n"
     ]
    }
   ],
   "source": [
    "use_int()"
   ]
  },
  {
   "cell_type": "code",
   "execution_count": 1,
   "id": "e84d7774",
   "metadata": {},
   "outputs": [],
   "source": [
    "def int():\n",
    "    while True:\n",
    "        try:\n",
    "            result = int(input(\"please provide number: \"))\n",
    "        except:\n",
    "            print(\"whoops! that is not a number\")\n",
    "            continue\n",
    "        else:\n",
    "            print(\"yes thank u\")\n",
    "            break\n",
    "        finally:\n",
    "            print(\"end of try/except/finally\")"
   ]
  },
  {
   "cell_type": "code",
   "execution_count": null,
   "id": "011be12f",
   "metadata": {},
   "outputs": [
    {
     "name": "stdout",
     "output_type": "stream",
     "text": [
      "please provide number: 56\n",
      "whoops! that is not a number\n",
      "end of try/except/finally\n"
     ]
    }
   ],
   "source": [
    "int()"
   ]
  },
  {
   "cell_type": "code",
   "execution_count": 1,
   "id": "c05048c7",
   "metadata": {},
   "outputs": [],
   "source": [
    "def use_int():\n",
    "    while True:\n",
    "        try:\n",
    "            result = int(input(\"please provide number: \"))\n",
    "        except:\n",
    "            print(\"whoops! that is not a number\")\n",
    "            continue\n",
    "        else:\n",
    "            print(\"yes thank you\")\n",
    "            break\n",
    "        finally:\n",
    "            print(\"end of try/except/finally\")\n",
    "            print(\" i will always run at the end!\")"
   ]
  },
  {
   "cell_type": "code",
   "execution_count": 2,
   "id": "b19d81b8",
   "metadata": {},
   "outputs": [
    {
     "name": "stdout",
     "output_type": "stream",
     "text": [
      "please provide number: 56\n",
      "yes thank you\n",
      "end of try/except/finally\n",
      " i will always run at the end!\n"
     ]
    }
   ],
   "source": [
    "use_int()"
   ]
  },
  {
   "cell_type": "code",
   "execution_count": 1,
   "id": "e999c8dc",
   "metadata": {},
   "outputs": [],
   "source": [
    "def ask_int():\n",
    "    while True:\n",
    "        try:\n",
    "            result = int(input(\"please provide number: \"))\n",
    "        except:\n",
    "            print(\"whoops! that is not a number\")\n",
    "            continue\n",
    "        else:\n",
    "            print(\"yes thank u\")\n",
    "            break\n",
    "        finally:\n",
    "            print(\"end of try/except/finally\")"
   ]
  },
  {
   "cell_type": "code",
   "execution_count": 3,
   "id": "25759702",
   "metadata": {},
   "outputs": [
    {
     "name": "stdout",
     "output_type": "stream",
     "text": [
      "please provide number: 56\n",
      "yes thank u\n",
      "end of try/except/finally\n"
     ]
    }
   ],
   "source": [
    "ask_int()"
   ]
  },
  {
   "cell_type": "code",
   "execution_count": 7,
   "id": "91d39b73",
   "metadata": {},
   "outputs": [],
   "source": [
    "def qwerty_int():\n",
    "    while True:\n",
    "    \n",
    "        try:\n",
    "            result = int(input(\"please entre number: \"))\n",
    "        except:\n",
    "            print(\"whoop! that is not a number\")\n",
    "            continue\n",
    "        else:\n",
    "            print(\"thank u typing number\")\n",
    "            break\n",
    "        finally:\n",
    "            print(\"end of try/except & finally\")"
   ]
  },
  {
   "cell_type": "code",
   "execution_count": 8,
   "id": "83b253a3",
   "metadata": {},
   "outputs": [
    {
     "name": "stdout",
     "output_type": "stream",
     "text": [
      "please entre number: 56\n",
      "thank u typing number\n",
      "end of try/except & finally\n"
     ]
    }
   ],
   "source": [
    "qwerty_int()"
   ]
  },
  {
   "cell_type": "code",
   "execution_count": 9,
   "id": "789d2fad",
   "metadata": {},
   "outputs": [
    {
     "name": "stdout",
     "output_type": "stream",
     "text": [
      "please entre number: cassd\n",
      "whoop! that is not a number\n",
      "end of try/except & finally\n",
      "please entre number: 56\n",
      "thank u typing number\n",
      "end of try/except & finally\n"
     ]
    }
   ],
   "source": [
    "qwerty_int()"
   ]
  },
  {
   "cell_type": "code",
   "execution_count": 12,
   "id": "1249e09a",
   "metadata": {},
   "outputs": [],
   "source": [
    "## for i in ['a','b','c']:\n",
    " ##   print(i**2)"
   ]
  },
  {
   "cell_type": "code",
   "execution_count": 14,
   "id": "d3bf440c",
   "metadata": {},
   "outputs": [
    {
     "name": "stdout",
     "output_type": "stream",
     "text": [
      "type error! watch out\n"
     ]
    }
   ],
   "source": [
    "try:\n",
    "    for i in ['a','b','c']:\n",
    "        print(i**2)\n",
    "except:\n",
    "    print('type error! watch out')\n"
   ]
  },
  {
   "cell_type": "code",
   "execution_count": 15,
   "id": "11fadc24",
   "metadata": {},
   "outputs": [
    {
     "name": "stdout",
     "output_type": "stream",
     "text": [
      "zero division error\n",
      "ALL DONE\n"
     ]
    }
   ],
   "source": [
    "try:\n",
    "    x = 5\n",
    "    y = 0\n",
    "\n",
    "    z = x/y\n",
    "    \n",
    "except:\n",
    "    print(\"zero division error\")\n",
    "finally:\n",
    "    print(\"ALL DONE\")"
   ]
  },
  {
   "cell_type": "code",
   "execution_count": 22,
   "id": "3d35fa54",
   "metadata": {},
   "outputs": [],
   "source": [
    "def ask():\n",
    "    \n",
    "    while True:\n",
    "        try:\n",
    "            n = int(input(\"enter a number: \"))\n",
    "        except:\n",
    "            print(\"please try again! \\n\")\n",
    "            continue\n",
    "        else:\n",
    "            break\n",
    "    \n",
    "    print(\"Your number square is \")\n",
    "    print(n**2)\n",
    "            "
   ]
  },
  {
   "cell_type": "code",
   "execution_count": 23,
   "id": "ca4e49a1",
   "metadata": {},
   "outputs": [
    {
     "name": "stdout",
     "output_type": "stream",
     "text": [
      "enter a number: 4\n",
      "Your number square is \n",
      "16\n"
     ]
    }
   ],
   "source": [
    "ask()"
   ]
  },
  {
   "cell_type": "code",
   "execution_count": 24,
   "id": "6501f6ee",
   "metadata": {},
   "outputs": [],
   "source": [
    "def ask():\n",
    "    \n",
    "    while True:\n",
    "        \n",
    "        try:\n",
    "            n = int(input(\"ENTRE A NUMBER \"))\n",
    "        except:\n",
    "            print(\"WHOOP! THAT NOT A NUMBER\")\n",
    "            continue\n",
    "        else:\n",
    "            break\n",
    "            \n",
    "    print(\"SQUARE OF THE NUMBER \")\n",
    "    print(n**2)"
   ]
  },
  {
   "cell_type": "code",
   "execution_count": 25,
   "id": "ff2a1860",
   "metadata": {},
   "outputs": [
    {
     "name": "stdout",
     "output_type": "stream",
     "text": [
      "ENTRE A NUMBER 6\n",
      "SQUARE OF THE NUMBER \n",
      "36\n"
     ]
    }
   ],
   "source": [
    "ask()"
   ]
  },
  {
   "cell_type": "markdown",
   "id": "6d490cfb",
   "metadata": {},
   "source": [
    "# PYLINT AND UNITTEST\n",
    "\n"
   ]
  },
  {
   "cell_type": "code",
   "execution_count": 27,
   "id": "99ca5c90",
   "metadata": {},
   "outputs": [],
   "source": [
    "##subline / command prompt"
   ]
  },
  {
   "cell_type": "code",
   "execution_count": null,
   "id": "ba20676d",
   "metadata": {},
   "outputs": [],
   "source": []
  }
 ],
 "metadata": {
  "kernelspec": {
   "display_name": "Python 3 (ipykernel)",
   "language": "python",
   "name": "python3"
  },
  "language_info": {
   "codemirror_mode": {
    "name": "ipython",
    "version": 3
   },
   "file_extension": ".py",
   "mimetype": "text/x-python",
   "name": "python",
   "nbconvert_exporter": "python",
   "pygments_lexer": "ipython3",
   "version": "3.10.9"
  }
 },
 "nbformat": 4,
 "nbformat_minor": 5
}
