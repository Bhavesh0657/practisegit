{
 "cells": [
  {
   "cell_type": "code",
   "execution_count": 1,
   "id": "66a85373",
   "metadata": {},
   "outputs": [],
   "source": [
    "# card class\n",
    "# suit, rank, value\n",
    "import random\n",
    "suits = ('Hearts', 'Diamonds', 'Spades', 'Clubs')\n",
    "ranks = ('Two', 'Three', 'Four', 'Five', 'Six', 'Seven', 'Eight',\n",
    "          'Nine', 'Ten', 'Jack', 'Queen', 'King', 'Ace')\n",
    "\n",
    "\n",
    "\n",
    "values = {'Two':2, 'Three':3, 'Four':4, 'Five':5, 'Six':6, 'Seven':7, 'Eight':8,\n",
    "          'Nine':9, 'Ten':10, 'Jack':11, 'Queen':12, 'King':13, 'Ace':14}"
   ]
  },
  {
   "cell_type": "code",
   "execution_count": 2,
   "id": "794f3ac4",
   "metadata": {},
   "outputs": [],
   "source": [
    "class Card():\n",
    "    \n",
    "    def __init__(self,suit,rank):\n",
    "        self.suit = suit\n",
    "        self.rank = rank\n",
    "        self.value = values[rank]\n",
    "        \n",
    "    def __str__(self):\n",
    "        return self.rank + \" of \" + self.suit"
   ]
  },
  {
   "cell_type": "code",
   "execution_count": 3,
   "id": "fa78f64e",
   "metadata": {},
   "outputs": [],
   "source": [
    "three_of_clubs = Card(\"Clubs\",\"Three\")"
   ]
  },
  {
   "cell_type": "code",
   "execution_count": 4,
   "id": "d2ac9c1a",
   "metadata": {},
   "outputs": [],
   "source": [
    "two_hearts = Card(\"Hearts\",'Two')\n"
   ]
  },
  {
   "cell_type": "code",
   "execution_count": 5,
   "id": "3d46d234",
   "metadata": {},
   "outputs": [
    {
     "data": {
      "text/plain": [
       "'Two'"
      ]
     },
     "execution_count": 5,
     "metadata": {},
     "output_type": "execute_result"
    }
   ],
   "source": [
    "two_hearts.rank"
   ]
  },
  {
   "cell_type": "code",
   "execution_count": 6,
   "id": "c135b627",
   "metadata": {},
   "outputs": [
    {
     "data": {
      "text/plain": [
       "'Hearts'"
      ]
     },
     "execution_count": 6,
     "metadata": {},
     "output_type": "execute_result"
    }
   ],
   "source": [
    "two_hearts.suit"
   ]
  },
  {
   "cell_type": "code",
   "execution_count": 7,
   "id": "8723e6fe",
   "metadata": {},
   "outputs": [
    {
     "name": "stdout",
     "output_type": "stream",
     "text": [
      "Two of Hearts\n"
     ]
    }
   ],
   "source": [
    "print(two_hearts)"
   ]
  },
  {
   "cell_type": "code",
   "execution_count": 8,
   "id": "08c79c14",
   "metadata": {},
   "outputs": [],
   "source": [
    "values = {'Two':2, 'Three':3, 'Four':4, 'Five':5, 'Six':6, 'Seven':7, 'Eight':8,\n",
    "          'Nine':9, 'Ten':10, 'Jack':11, 'Queen':12, 'King':13, 'Ace':14}"
   ]
  },
  {
   "cell_type": "code",
   "execution_count": 9,
   "id": "db587909",
   "metadata": {},
   "outputs": [
    {
     "data": {
      "text/plain": [
       "2"
      ]
     },
     "execution_count": 9,
     "metadata": {},
     "output_type": "execute_result"
    }
   ],
   "source": [
    "values[two_hearts.rank]"
   ]
  },
  {
   "cell_type": "code",
   "execution_count": 10,
   "id": "f71c2cfe",
   "metadata": {},
   "outputs": [
    {
     "data": {
      "text/plain": [
       "3"
      ]
     },
     "execution_count": 10,
     "metadata": {},
     "output_type": "execute_result"
    }
   ],
   "source": [
    "three_of_clubs.value"
   ]
  },
  {
   "cell_type": "code",
   "execution_count": 11,
   "id": "373c9623",
   "metadata": {},
   "outputs": [
    {
     "data": {
      "text/plain": [
       "2"
      ]
     },
     "execution_count": 11,
     "metadata": {},
     "output_type": "execute_result"
    }
   ],
   "source": [
    "two_hearts.value"
   ]
  },
  {
   "cell_type": "code",
   "execution_count": 12,
   "id": "e5ffd651",
   "metadata": {},
   "outputs": [
    {
     "data": {
      "text/plain": [
       "True"
      ]
     },
     "execution_count": 12,
     "metadata": {},
     "output_type": "execute_result"
    }
   ],
   "source": [
    "two_hearts.value < three_of_clubs.value"
   ]
  },
  {
   "cell_type": "code",
   "execution_count": 13,
   "id": "166f14c0",
   "metadata": {},
   "outputs": [],
   "source": [
    "# deck class"
   ]
  },
  {
   "cell_type": "code",
   "execution_count": 121,
   "id": "da89a6e0",
   "metadata": {},
   "outputs": [],
   "source": [
    "class Deck():\n",
    "    \n",
    "    def __init__(self):\n",
    "        \n",
    "        self.all_cards = []\n",
    "        \n",
    "        for suit in suits:\n",
    "            for rank in ranks:\n",
    "                created_card = Card(suit,rank)\n",
    "                \n",
    "                self.all_cards.append(created_card)\n",
    "                \n",
    "        \n",
    "    def shuffle(self):\n",
    "        from random import shuffle\n",
    "        \n",
    "        random.shuffle(self.all_cards)\n",
    "        \n",
    "    def deal_one(self):\n",
    "        return self.all_cards.pop()\n",
    "        \n",
    "        \n",
    "        "
   ]
  },
  {
   "cell_type": "code",
   "execution_count": 122,
   "id": "42e4098d",
   "metadata": {},
   "outputs": [],
   "source": [
    "new_deck = Deck()"
   ]
  },
  {
   "cell_type": "code",
   "execution_count": 123,
   "id": "4e11bb70",
   "metadata": {},
   "outputs": [],
   "source": [
    "first_card = new_deck.all_cards[0]"
   ]
  },
  {
   "cell_type": "code",
   "execution_count": 124,
   "id": "052bfec5",
   "metadata": {},
   "outputs": [
    {
     "data": {
      "text/plain": [
       "<__main__.Card at 0x1ac5f25ca00>"
      ]
     },
     "execution_count": 124,
     "metadata": {},
     "output_type": "execute_result"
    }
   ],
   "source": [
    "first_card"
   ]
  },
  {
   "cell_type": "code",
   "execution_count": 125,
   "id": "0a65f492",
   "metadata": {},
   "outputs": [
    {
     "name": "stdout",
     "output_type": "stream",
     "text": [
      "Two of Hearts\n"
     ]
    }
   ],
   "source": [
    "print(first_card)"
   ]
  },
  {
   "cell_type": "code",
   "execution_count": 126,
   "id": "f53f3388",
   "metadata": {},
   "outputs": [],
   "source": [
    "new_deck.shuffle()"
   ]
  },
  {
   "cell_type": "code",
   "execution_count": 127,
   "id": "27c336ee",
   "metadata": {},
   "outputs": [],
   "source": [
    "last_card = new_deck.all_cards[-1]"
   ]
  },
  {
   "cell_type": "code",
   "execution_count": 128,
   "id": "7e213c98",
   "metadata": {},
   "outputs": [
    {
     "name": "stdout",
     "output_type": "stream",
     "text": [
      "Ace of Clubs\n"
     ]
    }
   ],
   "source": [
    "print(last_card)"
   ]
  },
  {
   "cell_type": "code",
   "execution_count": 129,
   "id": "14446e24",
   "metadata": {},
   "outputs": [],
   "source": [
    "new_deck = Deck()\n",
    "\n"
   ]
  },
  {
   "cell_type": "code",
   "execution_count": 130,
   "id": "741222e8",
   "metadata": {},
   "outputs": [],
   "source": [
    "new_deck.shuffle()"
   ]
  },
  {
   "cell_type": "code",
   "execution_count": 131,
   "id": "1735fe69",
   "metadata": {},
   "outputs": [],
   "source": [
    "mycard = new_deck.deal_one()"
   ]
  },
  {
   "cell_type": "code",
   "execution_count": 132,
   "id": "612954d3",
   "metadata": {},
   "outputs": [
    {
     "name": "stdout",
     "output_type": "stream",
     "text": [
      "Six of Clubs\n"
     ]
    }
   ],
   "source": [
    "print(mycard)"
   ]
  },
  {
   "cell_type": "code",
   "execution_count": 133,
   "id": "3873f0fe",
   "metadata": {},
   "outputs": [
    {
     "data": {
      "text/plain": [
       "51"
      ]
     },
     "execution_count": 133,
     "metadata": {},
     "output_type": "execute_result"
    }
   ],
   "source": [
    "len(new_deck.all_cards)"
   ]
  },
  {
   "cell_type": "code",
   "execution_count": 134,
   "id": "7c612465",
   "metadata": {},
   "outputs": [],
   "source": [
    "# player class"
   ]
  },
  {
   "cell_type": "code",
   "execution_count": 135,
   "id": "afaeedc0",
   "metadata": {},
   "outputs": [],
   "source": [
    "class Player:\n",
    "    \n",
    "    def __init__ (self,name):\n",
    "        \n",
    "        self.name = name\n",
    "        self.all_cards = []\n",
    "        \n",
    "    def remove_one(self):\n",
    "        return self.all_cards.pop(0)\n",
    "    \n",
    "    def add_cards(self,new_cards):\n",
    "        if type(new_cards) == type([]):\n",
    "            self.all_cards.extend(new_cards)\n",
    "        else:\n",
    "            self.all_cards.append(new_cards)\n",
    "    \n",
    "    def __str__(self):\n",
    "        return f'Player {self.name} has {len(self.all_cards)} cards.'"
   ]
  },
  {
   "cell_type": "code",
   "execution_count": 136,
   "id": "8a1c4a45",
   "metadata": {},
   "outputs": [],
   "source": [
    "new_player = Player(\"aveeksha\")"
   ]
  },
  {
   "cell_type": "code",
   "execution_count": 137,
   "id": "95884a2d",
   "metadata": {},
   "outputs": [
    {
     "name": "stdout",
     "output_type": "stream",
     "text": [
      "Player aveeksha has 0 cards.\n"
     ]
    }
   ],
   "source": [
    "print(new_player)"
   ]
  },
  {
   "cell_type": "code",
   "execution_count": 141,
   "id": "24f90ce9",
   "metadata": {},
   "outputs": [],
   "source": [
    "new_player.add_cards(mycard)"
   ]
  },
  {
   "cell_type": "code",
   "execution_count": 149,
   "id": "a293a89d",
   "metadata": {},
   "outputs": [
    {
     "name": "stdout",
     "output_type": "stream",
     "text": [
      "Player aveeksha has 1 cards.\n"
     ]
    }
   ],
   "source": [
    "print(new_player)"
   ]
  },
  {
   "cell_type": "code",
   "execution_count": 148,
   "id": "b89421cb",
   "metadata": {},
   "outputs": [
    {
     "data": {
      "text/plain": [
       "<bound method Player.remove_one of <__main__.Player object at 0x000001AC5F25ED40>>"
      ]
     },
     "execution_count": 148,
     "metadata": {},
     "output_type": "execute_result"
    }
   ],
   "source": [
    "new_player.remove_one"
   ]
  },
  {
   "cell_type": "code",
   "execution_count": 150,
   "id": "8ae1c52e",
   "metadata": {},
   "outputs": [
    {
     "name": "stdout",
     "output_type": "stream",
     "text": [
      "Six of Clubs\n"
     ]
    }
   ],
   "source": [
    "print(new_player.all_cards[0])"
   ]
  },
  {
   "cell_type": "code",
   "execution_count": 151,
   "id": "9cdd14f2",
   "metadata": {},
   "outputs": [],
   "source": [
    "new_player.add_cards([mycard,mycard,first_card,last_card])"
   ]
  },
  {
   "cell_type": "code",
   "execution_count": 159,
   "id": "76796094",
   "metadata": {},
   "outputs": [
    {
     "name": "stdout",
     "output_type": "stream",
     "text": [
      "Player aveeksha has 3 cards.\n"
     ]
    }
   ],
   "source": [
    "print(new_player)"
   ]
  },
  {
   "cell_type": "code",
   "execution_count": 158,
   "id": "6197ffe6",
   "metadata": {},
   "outputs": [
    {
     "data": {
      "text/plain": [
       "<__main__.Card at 0x1ac5f25cf10>"
      ]
     },
     "execution_count": 158,
     "metadata": {},
     "output_type": "execute_result"
    }
   ],
   "source": [
    "new_player.remove_one()"
   ]
  },
  {
   "cell_type": "markdown",
   "id": "a6780e1e",
   "metadata": {},
   "source": [
    "# game"
   ]
  },
  {
   "cell_type": "code",
   "execution_count": 160,
   "id": "1b1c4ef1",
   "metadata": {},
   "outputs": [],
   "source": [
    "# step1  Game setup\n",
    "\n",
    "# step2  while game_on:\n",
    "    \n",
    "  #       while at_war"
   ]
  },
  {
   "cell_type": "code",
   "execution_count": 162,
   "id": "049b0deb",
   "metadata": {},
   "outputs": [],
   "source": [
    "# game setup\n",
    "\n",
    "player_one = Player(\"one\")\n",
    "player_two = Player(\"two\")\n",
    "\n",
    "new_deck = Deck()\n",
    "new_deck.shuffle()\n",
    "\n",
    "for x in range(26):\n",
    "    player_one.add_cards(new_deck.deal_one())\n",
    "    player_two.add_cards(new_deck.deal_one())\n",
    "    "
   ]
  },
  {
   "cell_type": "code",
   "execution_count": 165,
   "id": "b4fd59f1",
   "metadata": {},
   "outputs": [
    {
     "name": "stdout",
     "output_type": "stream",
     "text": [
      "Ten of Clubs\n"
     ]
    }
   ],
   "source": [
    "print(player_one.all_cards)"
   ]
  },
  {
   "cell_type": "code",
   "execution_count": 166,
   "id": "bf9b60ee",
   "metadata": {},
   "outputs": [],
   "source": [
    "game_on = True"
   ]
  },
  {
   "cell_type": "code",
   "execution_count": 168,
   "id": "6cf54c2b",
   "metadata": {
    "scrolled": false
   },
   "outputs": [
    {
     "name": "stdout",
     "output_type": "stream",
     "text": [
      " round 1\n",
      " round 2\n",
      " round 3\n",
      " round 4\n",
      " round 5\n",
      " round 6\n",
      " round 7\n",
      " round 8\n",
      " round 9\n",
      " round 10\n",
      " round 11\n",
      " round 12\n",
      " round 13\n",
      " round 14\n",
      " round 15\n",
      " round 16\n",
      " round 17\n",
      " round 18\n",
      " round 19\n",
      " round 20\n",
      " round 21\n",
      " round 22\n",
      " round 23\n",
      "WAR!\n",
      " round 24\n",
      " round 25\n",
      " round 26\n",
      " round 27\n",
      " round 28\n",
      " round 29\n",
      " round 30\n",
      " round 31\n",
      " round 32\n",
      " round 33\n",
      " round 34\n",
      " round 35\n",
      " round 36\n",
      " round 37\n",
      " round 38\n",
      " round 39\n",
      " round 40\n",
      " round 41\n",
      " round 42\n",
      " round 43\n",
      " round 44\n",
      " round 45\n",
      " round 46\n",
      " round 47\n",
      " round 48\n",
      "WAR!\n",
      " round 49\n",
      " round 50\n",
      " round 51\n",
      " round 52\n",
      " round 53\n",
      " round 54\n",
      " round 55\n",
      " round 56\n",
      " round 57\n",
      " round 58\n",
      " round 59\n",
      " round 60\n",
      " round 61\n",
      " round 62\n",
      " round 63\n",
      " round 64\n",
      " round 65\n",
      " round 66\n",
      " round 67\n",
      " round 68\n",
      " round 69\n",
      " round 70\n",
      " round 71\n",
      " round 72\n",
      " round 73\n",
      " round 74\n",
      " round 75\n",
      " round 76\n",
      " round 77\n",
      " round 78\n",
      " round 79\n",
      " round 80\n",
      " round 81\n",
      " round 82\n",
      "WAR!\n",
      " round 83\n",
      " round 84\n",
      " round 85\n",
      " round 86\n",
      " round 87\n",
      " round 88\n",
      " round 89\n",
      " round 90\n",
      " round 91\n",
      " round 92\n",
      " round 93\n",
      " round 94\n",
      " round 95\n",
      " round 96\n",
      " round 97\n",
      " round 98\n",
      " round 99\n",
      " round 100\n",
      " round 101\n",
      " round 102\n",
      " round 103\n",
      " round 104\n",
      " round 105\n",
      " round 106\n",
      " round 107\n",
      " round 108\n",
      " round 109\n",
      " round 110\n",
      " round 111\n",
      " round 112\n",
      " round 113\n",
      " round 114\n",
      " round 115\n",
      " round 116\n",
      " round 117\n",
      " round 118\n",
      " round 119\n",
      " round 120\n",
      " round 121\n",
      " round 122\n",
      " round 123\n",
      " round 124\n",
      " round 125\n",
      " round 126\n",
      " round 127\n",
      " round 128\n",
      " round 129\n",
      " round 130\n",
      " round 131\n",
      " round 132\n",
      " round 133\n",
      " round 134\n",
      " round 135\n",
      " round 136\n",
      " round 137\n",
      " round 138\n",
      " round 139\n",
      " round 140\n",
      " round 141\n",
      " round 142\n",
      " round 143\n",
      " round 144\n",
      " round 145\n",
      " round 146\n",
      " round 147\n",
      " round 148\n",
      " round 149\n",
      " round 150\n",
      " round 151\n",
      " round 152\n",
      " round 153\n",
      " round 154\n",
      " round 155\n",
      " round 156\n",
      " round 157\n",
      " round 158\n",
      " round 159\n",
      " round 160\n",
      " round 161\n",
      " round 162\n",
      " round 163\n",
      " round 164\n",
      " round 165\n",
      " round 166\n",
      " round 167\n",
      " round 168\n",
      " round 169\n",
      " round 170\n",
      " round 171\n",
      " round 172\n",
      " round 173\n",
      " round 174\n",
      " round 175\n",
      " round 176\n",
      " round 177\n",
      " round 178\n",
      " round 179\n",
      " round 180\n",
      " round 181\n",
      " round 182\n",
      " round 183\n",
      " round 184\n",
      " round 185\n",
      " round 186\n",
      " round 187\n",
      " round 188\n",
      " round 189\n",
      " round 190\n",
      " round 191\n",
      " round 192\n",
      " round 193\n",
      " round 194\n",
      " round 195\n",
      " round 196\n",
      " round 197\n",
      "WAR!\n",
      " round 198\n",
      " round 199\n",
      " round 200\n",
      " round 201\n",
      " round 202\n",
      " round 203\n",
      " round 204\n",
      " round 205\n",
      " round 206\n",
      " round 207\n",
      " round 208\n",
      " round 209\n",
      " round 210\n",
      " round 211\n",
      " round 212\n",
      " round 213\n",
      " round 214\n",
      " round 215\n",
      " round 216\n",
      " round 217\n",
      " round 218\n",
      " round 219\n",
      " round 220\n",
      " round 221\n",
      " round 222\n",
      " round 223\n",
      " round 224\n",
      " round 225\n",
      " round 226\n",
      " round 227\n",
      " round 228\n",
      " round 229\n",
      " round 230\n",
      "WAR!\n",
      " round 231\n",
      " round 232\n",
      " round 233\n",
      " round 234\n",
      " round 235\n",
      " round 236\n",
      " round 237\n",
      " round 238\n",
      " round 239\n",
      " round 240\n",
      "WAR!\n",
      " round 241\n",
      " round 242\n",
      " round 243\n",
      " round 244\n",
      " round 245\n",
      " round 246\n",
      " round 247\n",
      " round 248\n",
      " round 249\n",
      " round 250\n",
      " round 251\n",
      " round 252\n",
      " round 253\n",
      " round 254\n",
      " round 255\n",
      " round 256\n",
      " round 257\n",
      " round 258\n",
      " round 259\n",
      " round 260\n",
      " round 261\n",
      " round 262\n",
      " round 263\n",
      " round 264\n",
      " round 265\n",
      " round 266\n",
      "WAR!\n",
      "WAR!\n",
      " round 267\n",
      " round 268\n",
      " round 269\n",
      " round 270\n",
      " round 271\n",
      " round 272\n",
      " round 273\n",
      " round 274\n",
      " round 275\n",
      " round 276\n",
      " round 277\n",
      " round 278\n",
      " round 279\n",
      " round 280\n",
      " round 281\n",
      " round 282\n",
      " round 283\n",
      " round 284\n",
      " round 285\n",
      " round 286\n",
      " round 287\n",
      " round 288\n",
      " round 289\n",
      " round 290\n",
      " round 291\n",
      " round 292\n",
      " round 293\n",
      " round 294\n",
      " round 295\n",
      " round 296\n",
      " round 297\n",
      " round 298\n",
      " round 299\n",
      " round 300\n",
      " round 301\n",
      " round 302\n",
      "WAR!\n",
      "WAR!\n",
      " round 303\n",
      "player one, out of cards!: player two wins!\n"
     ]
    }
   ],
   "source": [
    "round_num = 0\n",
    "\n",
    "while game_on:\n",
    "    \n",
    "    round_num += 1\n",
    "    print(f\" round {round_num}\")\n",
    "    \n",
    "    if len(player_one.all_cards) == 0:\n",
    "        print('player one, out of cards!: player two wins!')\n",
    "        game_on = False\n",
    "        break\n",
    "        \n",
    "    if len(player_two.all_cards) == 0:\n",
    "        print('player two, out of cards!: player one wins!')\n",
    "        game_on = False\n",
    "        break\n",
    "# start new round  \n",
    "    \n",
    "    player_one_cards = []\n",
    "    player_one_cards.append(player_one.remove_one())\n",
    "    \n",
    "    player_two_cards = []\n",
    "    player_two_cards.append(player_two.remove_one())\n",
    "    \n",
    "    \n",
    "    at_war = True\n",
    "    \n",
    "    while at_war:\n",
    "        \n",
    "        if player_one_cards[-1].value > player_two_cards[-1].value:\n",
    "            \n",
    "            player_one.add_cards(player_one_cards)\n",
    "            player_one.add_cards(player_two_cards)\n",
    "            \n",
    "            at_war = False\n",
    "            \n",
    "        \n",
    "        elif player_one_cards[-1].value < player_two_cards[-1].value:\n",
    "            \n",
    "            player_two.add_cards(player_one_cards)\n",
    "            player_two.add_cards(player_two_cards)\n",
    "            \n",
    "            at_war = False\n",
    "            \n",
    "        else:\n",
    "            print('WAR!')\n",
    "            \n",
    "            if len(player_one.all_cards) < 4:\n",
    "                print(\"player one unable to declare war\")\n",
    "                print(\"player two wins\")\n",
    "                game_on = False\n",
    "                break\n",
    "                \n",
    "            elif len(player_two.all_cards) < 4:\n",
    "                print(\"player two unable to declare war\")\n",
    "                print(\"player one wins\")\n",
    "                game_on = False\n",
    "                break\n",
    "                \n",
    "            else:\n",
    "                for num in range(4):\n",
    "                    player_one_cards.append(player_one.remove_one())\n",
    "                    player_two_cards.append(player_two.remove_one())\n",
    "                    "
   ]
  },
  {
   "cell_type": "code",
   "execution_count": null,
   "id": "efacbc51",
   "metadata": {},
   "outputs": [],
   "source": []
  }
 ],
 "metadata": {
  "kernelspec": {
   "display_name": "Python 3 (ipykernel)",
   "language": "python",
   "name": "python3"
  },
  "language_info": {
   "codemirror_mode": {
    "name": "ipython",
    "version": 3
   },
   "file_extension": ".py",
   "mimetype": "text/x-python",
   "name": "python",
   "nbconvert_exporter": "python",
   "pygments_lexer": "ipython3",
   "version": "3.10.9"
  }
 },
 "nbformat": 4,
 "nbformat_minor": 5
}
