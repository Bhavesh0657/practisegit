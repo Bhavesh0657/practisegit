{
 "cells": [
  {
   "cell_type": "code",
   "execution_count": 1,
   "id": "26072e36",
   "metadata": {},
   "outputs": [
    {
     "name": "stdout",
     "output_type": "stream",
     "text": [
      "hello\n"
     ]
    }
   ],
   "source": [
    "print(\"hello\")"
   ]
  },
  {
   "cell_type": "code",
   "execution_count": 2,
   "id": "3d38defd",
   "metadata": {},
   "outputs": [
    {
     "name": "stdout",
     "output_type": "stream",
     "text": [
      "qwerty\n"
     ]
    }
   ],
   "source": [
    "print(\"qwerty\")"
   ]
  },
  {
   "cell_type": "markdown",
   "id": "34da0e39",
   "metadata": {},
   "source": [
    "here you can write notes"
   ]
  },
  {
   "cell_type": "code",
   "execution_count": 3,
   "id": "69b2e068",
   "metadata": {},
   "outputs": [
    {
     "name": "stdout",
     "output_type": "stream",
     "text": [
      "bhavesh mewara\n"
     ]
    }
   ],
   "source": [
    "print(\"bhavesh mewara\")"
   ]
  },
  {
   "cell_type": "code",
   "execution_count": null,
   "id": "42d6b611",
   "metadata": {},
   "outputs": [],
   "source": []
  }
 ],
 "metadata": {
  "kernelspec": {
   "display_name": "Python 3 (ipykernel)",
   "language": "python",
   "name": "python3"
  },
  "language_info": {
   "codemirror_mode": {
    "name": "ipython",
    "version": 3
   },
   "file_extension": ".py",
   "mimetype": "text/x-python",
   "name": "python",
   "nbconvert_exporter": "python",
   "pygments_lexer": "ipython3",
   "version": "3.10.9"
  }
 },
 "nbformat": 4,
 "nbformat_minor": 5
}
