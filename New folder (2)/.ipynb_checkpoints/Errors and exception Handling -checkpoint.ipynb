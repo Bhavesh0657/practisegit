{
 "cells": [
  {
   "cell_type": "code",
   "execution_count": 1,
   "id": "150c2cfd",
   "metadata": {},
   "outputs": [],
   "source": [
    "# try # ecxept # finally"
   ]
  },
  {
   "cell_type": "code",
   "execution_count": 2,
   "id": "7b7b6e24",
   "metadata": {},
   "outputs": [],
   "source": [
    "def add(n1,n2):\n",
    "    print(n1+n2)"
   ]
  },
  {
   "cell_type": "code",
   "execution_count": 4,
   "id": "5317d4ae",
   "metadata": {},
   "outputs": [
    {
     "name": "stdout",
     "output_type": "stream",
     "text": [
      "101\n"
     ]
    }
   ],
   "source": [
    "add(45,56)"
   ]
  },
  {
   "cell_type": "code",
   "execution_count": 5,
   "id": "407ab793",
   "metadata": {},
   "outputs": [],
   "source": [
    "number1 = 10\n"
   ]
  },
  {
   "cell_type": "code",
   "execution_count": 7,
   "id": "e5cb8ee8",
   "metadata": {},
   "outputs": [
    {
     "name": "stdout",
     "output_type": "stream",
     "text": [
      "please provide a number: 56\n"
     ]
    }
   ],
   "source": [
    "number2 =input(\"please provide a number: \")"
   ]
  },
  {
   "cell_type": "code",
   "execution_count": 9,
   "id": "c28b5c6a",
   "metadata": {},
   "outputs": [
    {
     "ename": "TypeError",
     "evalue": "unsupported operand type(s) for +: 'int' and 'str'",
     "output_type": "error",
     "traceback": [
      "\u001b[1;31m---------------------------------------------------------------------------\u001b[0m",
      "\u001b[1;31mTypeError\u001b[0m                                 Traceback (most recent call last)",
      "Cell \u001b[1;32mIn[9], line 1\u001b[0m\n\u001b[1;32m----> 1\u001b[0m \u001b[43madd\u001b[49m\u001b[43m(\u001b[49m\u001b[43mnumber1\u001b[49m\u001b[43m,\u001b[49m\u001b[43m \u001b[49m\u001b[43mnumber2\u001b[49m\u001b[43m)\u001b[49m\n\u001b[0;32m      2\u001b[0m \u001b[38;5;28mprint\u001b[39m(\u001b[38;5;124m\"\u001b[39m\u001b[38;5;124msomething happend\u001b[39m\u001b[38;5;124m\"\u001b[39m)\n",
      "Cell \u001b[1;32mIn[2], line 2\u001b[0m, in \u001b[0;36madd\u001b[1;34m(n1, n2)\u001b[0m\n\u001b[0;32m      1\u001b[0m \u001b[38;5;28;01mdef\u001b[39;00m \u001b[38;5;21madd\u001b[39m(n1,n2):\n\u001b[1;32m----> 2\u001b[0m     \u001b[38;5;28mprint\u001b[39m(\u001b[43mn1\u001b[49m\u001b[38;5;241;43m+\u001b[39;49m\u001b[43mn2\u001b[49m)\n",
      "\u001b[1;31mTypeError\u001b[0m: unsupported operand type(s) for +: 'int' and 'str'"
     ]
    }
   ],
   "source": [
    "add(number1, number2)\n",
    "print(\"something happend\")"
   ]
  },
  {
   "cell_type": "code",
   "execution_count": 17,
   "id": "226e9a05",
   "metadata": {},
   "outputs": [
    {
     "name": "stdout",
     "output_type": "stream",
     "text": [
      "add went well\n",
      "20\n"
     ]
    }
   ],
   "source": [
    "try:\n",
    "    # want to attempt this code\n",
    "    result = 10 + 10\n",
    "except:\n",
    "    print(\"hey it looks you are'nt adding correctly\")\n",
    "else:\n",
    "    print(\"add went well\")\n",
    "    print(result)"
   ]
  },
  {
   "cell_type": "code",
   "execution_count": 16,
   "id": "6f9c9c62",
   "metadata": {},
   "outputs": [
    {
     "data": {
      "text/plain": [
       "20"
      ]
     },
     "execution_count": 16,
     "metadata": {},
     "output_type": "execute_result"
    }
   ],
   "source": [
    "result"
   ]
  },
  {
   "cell_type": "code",
   "execution_count": 22,
   "id": "b83a949c",
   "metadata": {},
   "outputs": [
    {
     "name": "stdout",
     "output_type": "stream",
     "text": [
      "hey its looks you are't adding correctly\n"
     ]
    }
   ],
   "source": [
    "try:\n",
    "    result = 45 + 'qw'\n",
    "except:\n",
    "    print(\"hey its looks you are't adding correctly\")\n",
    "else:\n",
    "    print(\"you are adding correctly\")\n",
    "    print(result)"
   ]
  },
  {
   "cell_type": "code",
   "execution_count": 23,
   "id": "88a7e5c2",
   "metadata": {},
   "outputs": [
    {
     "data": {
      "text/plain": [
       "123"
      ]
     },
     "execution_count": 23,
     "metadata": {},
     "output_type": "execute_result"
    }
   ],
   "source": [
    "result"
   ]
  },
  {
   "cell_type": "code",
   "execution_count": null,
   "id": "7421fe56",
   "metadata": {},
   "outputs": [],
   "source": []
  },
  {
   "cell_type": "code",
   "execution_count": 28,
   "id": "f3c25f2e",
   "metadata": {},
   "outputs": [
    {
     "name": "stdout",
     "output_type": "stream",
     "text": [
      "hey you have an OS Error\n",
      "i am run\n"
     ]
    }
   ],
   "source": [
    "try:\n",
    "    f = open('testfile','r')\n",
    "    f.write(\"write a test line\")\n",
    "except TypeError:\n",
    "    print(\"there was a type error\")\n",
    "except OSError:\n",
    "    print(\"hey you have an OS Error\")\n",
    "finally:\n",
    "    print(\"i am run\")"
   ]
  },
  {
   "cell_type": "code",
   "execution_count": 32,
   "id": "f922f66e",
   "metadata": {},
   "outputs": [],
   "source": [
    "def ask_for_int():\n",
    "    try:\n",
    "        result = int(input(\"please provide number:  \"))\n",
    "    except:\n",
    "        print(\"Whoops! that is not a number\")\n",
    "    finally:\n",
    "        print(\"end of try/except/finally\")"
   ]
  },
  {
   "cell_type": "code",
   "execution_count": 35,
   "id": "12fe98c0",
   "metadata": {},
   "outputs": [
    {
     "name": "stdout",
     "output_type": "stream",
     "text": [
      "please provide number:  dx\n",
      "Whoops! that is not a number\n",
      "end of try/except/finally\n"
     ]
    }
   ],
   "source": [
    "ask_for_int()"
   ]
  },
  {
   "cell_type": "code",
   "execution_count": null,
   "id": "ee319d56",
   "metadata": {},
   "outputs": [],
   "source": [
    "def use_int():\n",
    "    while True:\n",
    "        try:\n",
    "            result = int(input(\"please provide number: \"))\n",
    "        except:\n",
    "            print(\"whoops! that is not a number\")\n",
    "            continue\n",
    "        else:\n",
    "            print(\"yes thank you\")\n",
    "            break\n",
    "        finally:\n",
    "            print(\"end of try/except/finally\")\n",
    "            print(\" i will always run at the end!\")"
   ]
  },
  {
   "cell_type": "code",
   "execution_count": 2,
   "id": "e354b7d2",
   "metadata": {},
   "outputs": [
    {
     "name": "stdout",
     "output_type": "stream",
     "text": [
      "please provide number: 56\n",
      "yes thank you\n",
      "end of try/except/finally\n",
      " i will always run at the end!\n"
     ]
    }
   ],
   "source": [
    "use_int()"
   ]
  },
  {
   "cell_type": "code",
   "execution_count": 3,
   "id": "71e022b9",
   "metadata": {},
   "outputs": [
    {
     "name": "stdout",
     "output_type": "stream",
     "text": [
      "please provide number: czc\n",
      "whoops! that is not a number\n",
      "end of try/except/finally\n",
      " i will always run at the end!\n",
      "please provide number: 5\n",
      "yes thank you\n",
      "end of try/except/finally\n",
      " i will always run at the end!\n"
     ]
    }
   ],
   "source": [
    "use_int()"
   ]
  },
  {
   "cell_type": "code",
   "execution_count": 1,
   "id": "9030238c",
   "metadata": {},
   "outputs": [],
   "source": [
    "def int():\n",
    "    while True:\n",
    "        try:\n",
    "            result = int(input(\"please provide number: \"))\n",
    "        except:\n",
    "            print(\"whoops! that is not a number\")\n",
    "            continue\n",
    "        else:\n",
    "            print(\"yes thank u\")\n",
    "            break\n",
    "        finally:\n",
    "            print(\"end of try/except/finally\")"
   ]
  },
  {
   "cell_type": "code",
   "execution_count": null,
   "id": "55c9cbce",
   "metadata": {},
   "outputs": [
    {
     "name": "stdout",
     "output_type": "stream",
     "text": [
      "please provide number: 56\n",
      "whoops! that is not a number\n",
      "end of try/except/finally\n"
     ]
    }
   ],
   "source": [
    "int()"
   ]
  },
  {
   "cell_type": "code",
   "execution_count": 1,
   "id": "51344947",
   "metadata": {},
   "outputs": [],
   "source": [
    "def use_int():\n",
    "    while True:\n",
    "        try:\n",
    "            result = int(input(\"please provide number: \"))\n",
    "        except:\n",
    "            print(\"whoops! that is not a number\")\n",
    "            continue\n",
    "        else:\n",
    "            print(\"yes thank you\")\n",
    "            break\n",
    "        finally:\n",
    "            print(\"end of try/except/finally\")\n",
    "            print(\" i will always run at the end!\")"
   ]
  },
  {
   "cell_type": "code",
   "execution_count": 2,
   "id": "f84d0cb2",
   "metadata": {},
   "outputs": [
    {
     "name": "stdout",
     "output_type": "stream",
     "text": [
      "please provide number: 56\n",
      "yes thank you\n",
      "end of try/except/finally\n",
      " i will always run at the end!\n"
     ]
    }
   ],
   "source": [
    "use_int()"
   ]
  },
  {
   "cell_type": "code",
   "execution_count": 1,
   "id": "1db0971b",
   "metadata": {},
   "outputs": [],
   "source": [
    "def ask_int():\n",
    "    while True:\n",
    "        try:\n",
    "            result = int(input(\"please provide number: \"))\n",
    "        except:\n",
    "            print(\"whoops! that is not a number\")\n",
    "            continue\n",
    "        else:\n",
    "            print(\"yes thank u\")\n",
    "            break\n",
    "        finally:\n",
    "            print(\"end of try/except/finally\")"
   ]
  },
  {
   "cell_type": "code",
   "execution_count": 3,
   "id": "7d94d426",
   "metadata": {},
   "outputs": [
    {
     "name": "stdout",
     "output_type": "stream",
     "text": [
      "please provide number: 56\n",
      "yes thank u\n",
      "end of try/except/finally\n"
     ]
    }
   ],
   "source": [
    "ask_int()"
   ]
  },
  {
   "cell_type": "code",
   "execution_count": 7,
   "id": "ab9a4c0f",
   "metadata": {},
   "outputs": [],
   "source": [
    "def qwerty_int():\n",
    "    while True:\n",
    "    \n",
    "        try:\n",
    "            result = int(input(\"please entre number: \"))\n",
    "        except:\n",
    "            print(\"whoop! that is not a number\")\n",
    "            continue\n",
    "        else:\n",
    "            print(\"thank u typing number\")\n",
    "            break\n",
    "        finally:\n",
    "            print(\"end of try/except & finally\")"
   ]
  },
  {
   "cell_type": "code",
   "execution_count": 8,
   "id": "bc2a4a99",
   "metadata": {},
   "outputs": [
    {
     "name": "stdout",
     "output_type": "stream",
     "text": [
      "please entre number: 56\n",
      "thank u typing number\n",
      "end of try/except & finally\n"
     ]
    }
   ],
   "source": [
    "qwerty_int()"
   ]
  },
  {
   "cell_type": "code",
   "execution_count": 9,
   "id": "b527f4ea",
   "metadata": {},
   "outputs": [
    {
     "name": "stdout",
     "output_type": "stream",
     "text": [
      "please entre number: cassd\n",
      "whoop! that is not a number\n",
      "end of try/except & finally\n",
      "please entre number: 56\n",
      "thank u typing number\n",
      "end of try/except & finally\n"
     ]
    }
   ],
   "source": [
    "qwerty_int()"
   ]
  },
  {
   "cell_type": "code",
   "execution_count": 12,
   "id": "a955d80c",
   "metadata": {},
   "outputs": [],
   "source": [
    "## for i in ['a','b','c']:\n",
    " ##   print(i**2)"
   ]
  },
  {
   "cell_type": "code",
   "execution_count": null,
   "id": "c2f5b37d",
   "metadata": {},
   "outputs": [],
   "source": [
    "try:\n",
    "for i in ['a','b','c']:\n",
    "    print(i**2)"
   ]
  }
 ],
 "metadata": {
  "kernelspec": {
   "display_name": "Python 3 (ipykernel)",
   "language": "python",
   "name": "python3"
  },
  "language_info": {
   "codemirror_mode": {
    "name": "ipython",
    "version": 3
   },
   "file_extension": ".py",
   "mimetype": "text/x-python",
   "name": "python",
   "nbconvert_exporter": "python",
   "pygments_lexer": "ipython3",
   "version": "3.10.9"
  }
 },
 "nbformat": 4,
 "nbformat_minor": 5
}
