{
 "cells": [
  {
   "cell_type": "code",
   "execution_count": 2,
   "id": "4462d16a",
   "metadata": {},
   "outputs": [],
   "source": [
    "def func():\n",
    "    return 1"
   ]
  },
  {
   "cell_type": "code",
   "execution_count": 3,
   "id": "ef7015de",
   "metadata": {},
   "outputs": [
    {
     "data": {
      "text/plain": [
       "1"
      ]
     },
     "execution_count": 3,
     "metadata": {},
     "output_type": "execute_result"
    }
   ],
   "source": [
    "func()"
   ]
  },
  {
   "cell_type": "code",
   "execution_count": 4,
   "id": "5f3309e1",
   "metadata": {},
   "outputs": [
    {
     "data": {
      "text/plain": [
       "<function __main__.func()>"
      ]
     },
     "execution_count": 4,
     "metadata": {},
     "output_type": "execute_result"
    }
   ],
   "source": [
    "func"
   ]
  },
  {
   "cell_type": "code",
   "execution_count": 5,
   "id": "358ee4e6",
   "metadata": {},
   "outputs": [],
   "source": [
    "def hello():\n",
    "    return \"hello\""
   ]
  },
  {
   "cell_type": "code",
   "execution_count": 6,
   "id": "6c9cfbda",
   "metadata": {},
   "outputs": [
    {
     "data": {
      "text/plain": [
       "'hello'"
      ]
     },
     "execution_count": 6,
     "metadata": {},
     "output_type": "execute_result"
    }
   ],
   "source": [
    "hello()"
   ]
  },
  {
   "cell_type": "code",
   "execution_count": 7,
   "id": "e90ed2a8",
   "metadata": {},
   "outputs": [],
   "source": [
    "greet = hello"
   ]
  },
  {
   "cell_type": "code",
   "execution_count": 8,
   "id": "1897c303",
   "metadata": {},
   "outputs": [
    {
     "data": {
      "text/plain": [
       "'hello'"
      ]
     },
     "execution_count": 8,
     "metadata": {},
     "output_type": "execute_result"
    }
   ],
   "source": [
    "greet()"
   ]
  },
  {
   "cell_type": "code",
   "execution_count": 21,
   "id": "27084964",
   "metadata": {},
   "outputs": [],
   "source": [
    "def hello(name = 'qwerty'):\n",
    "    print('the hello() function has been executed!')\n",
    "    \n",
    "    def greet():\n",
    "        return '\\t this is great function inside hello'\n",
    "    \n",
    "    def welcome():\n",
    "        return '\\t this is welcome inside hello'\n",
    "    \n",
    "    print(\"i am going to return a function!\")\n",
    "    \n",
    "    if name == 'qwerty':\n",
    "        return greet\n",
    "    else:\n",
    "        return welcome"
   ]
  },
  {
   "cell_type": "code",
   "execution_count": 20,
   "id": "cf0e6ae7",
   "metadata": {},
   "outputs": [
    {
     "name": "stdout",
     "output_type": "stream",
     "text": [
      "the hello() function has been executed!\n",
      "\t this is great function inside hello\n",
      "\t this is welcome inside hello\n",
      "this is the end of the hello function\n"
     ]
    }
   ],
   "source": [
    "hello()"
   ]
  },
  {
   "cell_type": "code",
   "execution_count": 26,
   "id": "73715490",
   "metadata": {},
   "outputs": [
    {
     "name": "stdout",
     "output_type": "stream",
     "text": [
      "the hello() function has been executed!\n",
      "i am going to return a function!\n"
     ]
    }
   ],
   "source": [
    "my_new_func = hello('qwerty')"
   ]
  },
  {
   "cell_type": "code",
   "execution_count": 23,
   "id": "a416ea06",
   "metadata": {},
   "outputs": [
    {
     "name": "stdout",
     "output_type": "stream",
     "text": [
      "the hello() function has been executed!\n",
      "i am going to return a function!\n"
     ]
    }
   ],
   "source": [
    "my_new_func = hello('aj')"
   ]
  },
  {
   "cell_type": "code",
   "execution_count": 25,
   "id": "300a3fa5",
   "metadata": {},
   "outputs": [
    {
     "name": "stdout",
     "output_type": "stream",
     "text": [
      "\t this is welcome inside hello\n"
     ]
    }
   ],
   "source": [
    "print(my_new_func())"
   ]
  },
  {
   "cell_type": "code",
   "execution_count": 27,
   "id": "880940fc",
   "metadata": {},
   "outputs": [
    {
     "name": "stdout",
     "output_type": "stream",
     "text": [
      "\t this is great function inside hello\n"
     ]
    }
   ],
   "source": [
    "print(my_new_func())"
   ]
  },
  {
   "cell_type": "code",
   "execution_count": 36,
   "id": "3587f398",
   "metadata": {},
   "outputs": [],
   "source": [
    "def cool():\n",
    "    \n",
    "    def super_cool():\n",
    "        return 'i am  very cool!'\n",
    "    \n",
    "    return super_cool"
   ]
  },
  {
   "cell_type": "code",
   "execution_count": 37,
   "id": "d832d8e7",
   "metadata": {},
   "outputs": [],
   "source": [
    "some_func = cool()"
   ]
  },
  {
   "cell_type": "code",
   "execution_count": 38,
   "id": "d948139d",
   "metadata": {},
   "outputs": [
    {
     "data": {
      "text/plain": [
       "'i am  very cool!'"
      ]
     },
     "execution_count": 38,
     "metadata": {},
     "output_type": "execute_result"
    }
   ],
   "source": [
    "some_func()"
   ]
  },
  {
   "cell_type": "code",
   "execution_count": 41,
   "id": "8f990322",
   "metadata": {},
   "outputs": [],
   "source": [
    "# ex\n",
    "\n",
    "def hello():\n",
    "    return 'hi aj!'\n",
    "\n"
   ]
  },
  {
   "cell_type": "code",
   "execution_count": 42,
   "id": "b5691313",
   "metadata": {},
   "outputs": [],
   "source": [
    "def other(some_def_func):\n",
    "    print('other code runs here!')\n",
    "    print(some_def_func())"
   ]
  },
  {
   "cell_type": "code",
   "execution_count": 43,
   "id": "444a0043",
   "metadata": {},
   "outputs": [
    {
     "data": {
      "text/plain": [
       "'hi aj!'"
      ]
     },
     "execution_count": 43,
     "metadata": {},
     "output_type": "execute_result"
    }
   ],
   "source": [
    "hello()"
   ]
  },
  {
   "cell_type": "code",
   "execution_count": 44,
   "id": "1b8246f0",
   "metadata": {},
   "outputs": [
    {
     "name": "stdout",
     "output_type": "stream",
     "text": [
      "other code runs here!\n",
      "hi aj!\n"
     ]
    }
   ],
   "source": [
    "other(hello)"
   ]
  },
  {
   "cell_type": "code",
   "execution_count": 45,
   "id": "c8924c5b",
   "metadata": {},
   "outputs": [],
   "source": [
    "# another example\n",
    "\n",
    "def what():\n",
    "    return 'who are you'"
   ]
  },
  {
   "cell_type": "code",
   "execution_count": 47,
   "id": "d8bcae51",
   "metadata": {},
   "outputs": [],
   "source": [
    "def other(some_def_func):\n",
    "    print('this is my college ')\n",
    "    print(some_def_func())"
   ]
  },
  {
   "cell_type": "code",
   "execution_count": 48,
   "id": "ff80d5e8",
   "metadata": {},
   "outputs": [
    {
     "data": {
      "text/plain": [
       "'who are you'"
      ]
     },
     "execution_count": 48,
     "metadata": {},
     "output_type": "execute_result"
    }
   ],
   "source": [
    "what()"
   ]
  },
  {
   "cell_type": "code",
   "execution_count": 49,
   "id": "6a433cee",
   "metadata": {},
   "outputs": [
    {
     "name": "stdout",
     "output_type": "stream",
     "text": [
      "this is my college \n",
      "who are you\n"
     ]
    }
   ],
   "source": [
    "other(what)"
   ]
  },
  {
   "cell_type": "code",
   "execution_count": 50,
   "id": "b0929cbc",
   "metadata": {},
   "outputs": [],
   "source": [
    "def new_decorator(original_func):\n",
    "    \n",
    "    \n",
    "    def wrap_func():\n",
    "        \n",
    "        print('some extra code, before the original function')\n",
    "        \n",
    "        original_func()\n",
    "        \n",
    "        print('some extra code, after the original function')\n",
    "        \n",
    "    return wrap_func"
   ]
  },
  {
   "cell_type": "code",
   "execution_count": 51,
   "id": "5fff8e58",
   "metadata": {},
   "outputs": [],
   "source": [
    "def func_needs_decorator():\n",
    "    print('i want to be decorated!')"
   ]
  },
  {
   "cell_type": "code",
   "execution_count": 52,
   "id": "c6b93b77",
   "metadata": {},
   "outputs": [
    {
     "name": "stdout",
     "output_type": "stream",
     "text": [
      "i want to be decorated!\n"
     ]
    }
   ],
   "source": [
    "func_needs_decorator()"
   ]
  },
  {
   "cell_type": "code",
   "execution_count": 53,
   "id": "2a9975c8",
   "metadata": {},
   "outputs": [],
   "source": [
    "decorator_func = new_decorator(func_needs_decorator)"
   ]
  },
  {
   "cell_type": "code",
   "execution_count": 54,
   "id": "c85e231e",
   "metadata": {},
   "outputs": [
    {
     "name": "stdout",
     "output_type": "stream",
     "text": [
      "some extra code, before the original function\n",
      "i want to be decorated!\n",
      "some extra code, after the original function\n"
     ]
    }
   ],
   "source": [
    "decorator_func()"
   ]
  },
  {
   "cell_type": "code",
   "execution_count": 55,
   "id": "d42ba6b8",
   "metadata": {},
   "outputs": [],
   "source": [
    "@new_decorator\n",
    "def func_needs_decorator():\n",
    "    print('i want to be decorated!')"
   ]
  },
  {
   "cell_type": "code",
   "execution_count": 57,
   "id": "73277be2",
   "metadata": {},
   "outputs": [
    {
     "name": "stdout",
     "output_type": "stream",
     "text": [
      "some extra code, before the original function\n",
      "i want to be decorated!\n",
      "some extra code, after the original function\n"
     ]
    }
   ],
   "source": [
    "func_needs_decorator()"
   ]
  },
  {
   "cell_type": "code",
   "execution_count": null,
   "id": "8ead4723",
   "metadata": {},
   "outputs": [],
   "source": []
  }
 ],
 "metadata": {
  "kernelspec": {
   "display_name": "Python 3 (ipykernel)",
   "language": "python",
   "name": "python3"
  },
  "language_info": {
   "codemirror_mode": {
    "name": "ipython",
    "version": 3
   },
   "file_extension": ".py",
   "mimetype": "text/x-python",
   "name": "python",
   "nbconvert_exporter": "python",
   "pygments_lexer": "ipython3",
   "version": "3.10.9"
  }
 },
 "nbformat": 4,
 "nbformat_minor": 5
}
